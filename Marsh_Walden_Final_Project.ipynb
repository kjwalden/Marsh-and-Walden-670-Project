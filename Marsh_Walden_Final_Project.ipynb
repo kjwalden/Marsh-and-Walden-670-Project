{
 "cells": [
  {
   "cell_type": "markdown",
   "metadata": {},
   "source": [
    "# Final Project- Twitter analytics for iPhone Vs Samsung"
   ]
  },
  {
   "cell_type": "markdown",
   "metadata": {},
   "source": [
    "## 1. Business questions\n",
    "\n",
    "#### We want to see what is drving people towards samsung or iphone, is it just thier popular phones or is something more, such as brand, or other products they both offer? What are people talking about in real time to understand the consumer and how each of these companies can use this data to thier adavantage is something we are looking to get out of this project.  "
   ]
  },
  {
   "cell_type": "markdown",
   "metadata": {},
   "source": [
    " Kendell Walden, Andrew Marsh \"On my honor, as a student, I have neither given nor received unauthorized aid on this academic work.\""
   ]
  },
  {
   "cell_type": "markdown",
   "metadata": {},
   "source": [
    "## 2. Data identification and collection - tweets"
   ]
  },
  {
   "cell_type": "code",
   "execution_count": 1,
   "metadata": {},
   "outputs": [],
   "source": [
    "# import popular packages\n",
    "import csv\n",
    "import pandas as pd\n",
    "import re\n",
    "import json\n",
    "from textblob import TextBlob  \n",
    "\n",
    "\n",
    "import nltk\n",
    "# stopwords, FreqDist, word_tokenize\n",
    "from nltk.corpus import stopwords\n",
    "from nltk import FreqDist, word_tokenize\n",
    "from nltk.stem.porter import PorterStemmer\n",
    "from nltk.stem import WordNetLemmatizer\n",
    "from nltk.corpus import stopwords\n",
    "#regular expression\n",
    "import re\n",
    "#csv\n",
    "import csv\n",
    "# Excel-like format\n",
    "import pandas as pd\n",
    "#data visualization\n",
    "import matplotlib.pyplot as plt\n",
    "%matplotlib inline"
   ]
  },
  {
   "cell_type": "markdown",
   "metadata": {},
   "source": [
    "##### Loading in data that I have collected for tweets with ['samsung s10','s10'])\n"
   ]
  },
  {
   "cell_type": "code",
   "execution_count": 3,
   "metadata": {},
   "outputs": [],
   "source": [
    "with open('data/twitterSamsung.json', 'r') as f:\n",
    "    line = f.readline() # read only the first tweet/line\n",
    "    tweet = json.loads(line) # load it as Python dictiona"
   ]
  },
  {
   "cell_type": "code",
   "execution_count": 5,
   "metadata": {},
   "outputs": [
    {
     "name": "stdout",
     "output_type": "stream",
     "text": [
      "594\n"
     ]
    }
   ],
   "source": [
    "#\n",
    "import json\n",
    "\n",
    "# create an empty list to store our tweets in\n",
    "datas = []\n",
    "\n",
    "# append each line of the data to our tweets list using the json module\n",
    "for line in open('data/twitterSamsung.json'):\n",
    "    try:\n",
    "        datas.append(json.loads(line))\n",
    "    except:\n",
    "        pass\n",
    "\n",
    "# lets see how many we got\n",
    "print(len(datas))"
   ]
  },
  {
   "cell_type": "markdown",
   "metadata": {},
   "source": [
    "#### Loading in data from iphone collection for tweets with 'Iphone Xs'\n",
    "##### Collection of these tweets are coming very fast, much quicker than samsung. Very popular tweet "
   ]
  },
  {
   "cell_type": "code",
   "execution_count": 6,
   "metadata": {},
   "outputs": [],
   "source": [
    "with open('data/twitteriphone.json', 'r') as f:\n",
    "    line = f.readline() # read only the first tweet/line\n",
    "    tweet = json.loads(line) # load it as Python dictionary\n",
    "     "
   ]
  },
  {
   "cell_type": "code",
   "execution_count": 8,
   "metadata": {},
   "outputs": [
    {
     "name": "stdout",
     "output_type": "stream",
     "text": [
      "612\n"
     ]
    }
   ],
   "source": [
    "\n",
    "#\n",
    "import json\n",
    "\n",
    "# create an empty list to store our tweets in\n",
    "data = []\n",
    "\n",
    "# append each line of the data to our tweets list using the json module\n",
    "for line in open('data/twitteriphone.json'):\n",
    "    try:\n",
    "        data.append(json.loads(line))\n",
    "    except:\n",
    "        pass\n",
    "\n",
    "# lets see how many we got\n",
    "print(len(data))"
   ]
  },
  {
   "cell_type": "markdown",
   "metadata": {},
   "source": [
    "#### Number of samsung s10 tweets : 594\n",
    "#### Number of Iphone Xs tweets:  612\n",
    "\n",
    "#### Took Samsung tweets to collect a couple of hours while iphone only 10 minutes!\n"
   ]
  },
  {
   "cell_type": "markdown",
   "metadata": {},
   "source": [
    "## 3a. Samsung s10- Data Cleaning and Text preprocessing\n"
   ]
  },
  {
   "cell_type": "code",
   "execution_count": 9,
   "metadata": {},
   "outputs": [
    {
     "name": "stdout",
     "output_type": "stream",
     "text": [
      "{'created_at': 'Mon May 06 19:17:00 +0000 2019', 'id': 1125479593694117888, 'id_str': '1125479593694117888', 'text': '@TopesdGama Venían de obsequio con mi S10, hasta el momento geniales en todos los aspectos !!', 'display_text_range': [12, 93], 'source': '<a href=\"http://twitter.com/download/android\" rel=\"nofollow\">Twitter for Android</a>', 'truncated': False, 'in_reply_to_status_id': 1125119344424423426, 'in_reply_to_status_id_str': '1125119344424423426', 'in_reply_to_user_id': 168554230, 'in_reply_to_user_id_str': '168554230', 'in_reply_to_screen_name': 'TopesdGama', 'user': {'id': 1115578077088817152, 'id_str': '1115578077088817152', 'name': 'Carlos', 'screen_name': 'Carlos_florez_c', 'location': None, 'url': None, 'description': None, 'translator_type': 'none', 'protected': False, 'verified': False, 'followers_count': 0, 'friends_count': 103, 'listed_count': 0, 'favourites_count': 19, 'statuses_count': 10, 'created_at': 'Tue Apr 09 11:31:54 +0000 2019', 'utc_offset': None, 'time_zone': None, 'geo_enabled': False, 'lang': 'es', 'contributors_enabled': False, 'is_translator': False, 'profile_background_color': 'F5F8FA', 'profile_background_image_url': '', 'profile_background_image_url_https': '', 'profile_background_tile': False, 'profile_link_color': '1DA1F2', 'profile_sidebar_border_color': 'C0DEED', 'profile_sidebar_fill_color': 'DDEEF6', 'profile_text_color': '333333', 'profile_use_background_image': True, 'profile_image_url': 'http://abs.twimg.com/sticky/default_profile_images/default_profile_normal.png', 'profile_image_url_https': 'https://abs.twimg.com/sticky/default_profile_images/default_profile_normal.png', 'default_profile': True, 'default_profile_image': False, 'following': None, 'follow_request_sent': None, 'notifications': None}, 'geo': None, 'coordinates': None, 'place': None, 'contributors': None, 'is_quote_status': False, 'quote_count': 0, 'reply_count': 0, 'retweet_count': 0, 'favorite_count': 0, 'entities': {'hashtags': [], 'urls': [], 'user_mentions': [{'screen_name': 'TopesdGama', 'name': 'Topes de Gama', 'id': 168554230, 'id_str': '168554230', 'indices': [0, 11]}], 'symbols': []}, 'favorited': False, 'retweeted': False, 'filter_level': 'low', 'lang': 'es', 'timestamp_ms': '1557170220193'}\n",
      "{'created_at': 'Mon May 06 19:17:33 +0000 2019', 'id': 1125479731783139329, 'id_str': '1125479731783139329', 'text': 'RT @TheGrefgYT: 💎🔥 ¡SORTEO 10.000.000 DE SUSCRIPTORES! 🔥💎\\n\\nx10 PS4 PRO\\nx10 Galaxy S10\\n\\n20 GANADORES ;)\\n\\nVídeo ▶ https://t.co/VbWEzV9mwQ\\nLin…', 'source': '<a href=\"http://twitter.com\" rel=\"nofollow\">Twitter Web Client</a>', 'truncated': False, 'in_reply_to_status_id': None, 'in_reply_to_status_id_str': None, 'in_reply_to_user_id': None, 'in_reply_to_user_id_str': None, 'in_reply_to_screen_name': None, 'user': {'id': 1108367566135873536, 'id_str': '1108367566135873536', 'name': 'Anita Clapton', 'screen_name': 'AnitaClapton5', 'location': 'Vallejo, CA', 'url': 'http://date-to-fu.com', 'description': 'I am here😍 http://date-to-fu.com', 'translator_type': 'none', 'protected': False, 'verified': False, 'followers_count': 7, 'friends_count': 444, 'listed_count': 0, 'favourites_count': 1095, 'statuses_count': 1111, 'created_at': 'Wed Mar 20 13:59:55 +0000 2019', 'utc_offset': None, 'time_zone': None, 'geo_enabled': False, 'lang': 'en', 'contributors_enabled': False, 'is_translator': False, 'profile_background_color': 'F5F8FA', 'profile_background_image_url': '', 'profile_background_image_url_https': '', 'profile_background_tile': False, 'profile_link_color': '1DA1F2', 'profile_sidebar_border_color': 'C0DEED', 'profile_sidebar_fill_color': 'DDEEF6', 'profile_text_color': '333333', 'profile_use_background_image': True, 'profile_image_url': 'http://pbs.twimg.com/profile_images/1109153753607913472/iWYe76nm_normal.jpg', 'profile_image_url_https': 'https://pbs.twimg.com/profile_images/1109153753607913472/iWYe76nm_normal.jpg', 'profile_banner_url': 'https://pbs.twimg.com/profile_banners/1108367566135873536/1553277832', 'default_profile': True, 'default_profile_image': False, 'following': None, 'follow_request_sent': None, 'notifications': None}, 'geo': None, 'coordinates': None, 'place': None, 'contributors': None, 'retweeted_status': {'created_at': 'Thu Apr 04 21:58:45 +0000 2019', 'id': 1113923888675786752, 'id_str': '1113923888675786752', 'text': '💎🔥 ¡SORTEO 10.000.000 DE SUSCRIPTORES! 🔥💎\\n\\nx10 PS4 PRO\\nx10 Galaxy S10\\n\\n20 GANADORES ;)\\n\\nVídeo ▶… https://t.co/J2qlv5Am7h', 'display_text_range': [0, 140], 'source': '<a href=\"http://twitter.com\" rel=\"nofollow\">Twitter Web Client</a>', 'truncated': True, 'in_reply_to_status_id': None, 'in_reply_to_status_id_str': None, 'in_reply_to_user_id': None, 'in_reply_to_user_id_str': None, 'in_reply_to_screen_name': None, 'user': {'id': 1056396672, 'id_str': '1056396672', 'name': 'Grefg =)', 'screen_name': 'TheGrefgYT', 'location': 'Youtube Sky', 'url': 'http://www.youtube.com/user/TheGrefg', 'description': 'Suelo hablar de lo que entiendo, de lo que no, cierro la boca y aprendo. 💙😳 @TeamHeretics Owner & Mixer Streamer - Business mail: thegrefg@vizz-agency.com', 'translator_type': 'regular', 'protected': False, 'verified': True, 'followers_count': 2458830, 'friends_count': 1080, 'listed_count': 1057, 'favourites_count': 47943, 'statuses_count': 34763, 'created_at': 'Wed Jan 02 23:46:59 +0000 2013', 'utc_offset': None, 'time_zone': None, 'geo_enabled': True, 'lang': 'es', 'contributors_enabled': False, 'is_translator': False, 'profile_background_color': '59BEE4', 'profile_background_image_url': 'http://abs.twimg.com/images/themes/theme17/bg.gif', 'profile_background_image_url_https': 'https://abs.twimg.com/images/themes/theme17/bg.gif', 'profile_background_tile': False, 'profile_link_color': '0066FF', 'profile_sidebar_border_color': 'FFFFFF', 'profile_sidebar_fill_color': '191F22', 'profile_text_color': '4BB7DF', 'profile_use_background_image': True, 'profile_image_url': 'http://pbs.twimg.com/profile_images/1084768739244032000/y--TKOu1_normal.jpg', 'profile_image_url_https': 'https://pbs.twimg.com/profile_images/1084768739244032000/y--TKOu1_normal.jpg', 'profile_banner_url': 'https://pbs.twimg.com/profile_banners/1056396672/1548404986', 'default_profile': False, 'default_profile_image': False, 'following': None, 'follow_request_sent': None, 'notifications': None}, 'geo': None, 'coordinates': None, 'place': None, 'contributors': None, 'is_quote_status': False, 'extended_tweet': {'full_text': '💎🔥 ¡SORTEO 10.000.000 DE SUSCRIPTORES! 🔥💎\\n\\nx10 PS4 PRO\\nx10 Galaxy S10\\n\\n20 GANADORES ;)\\n\\nVídeo ▶ https://t.co/VbWEzV9mwQ\\nLink para participar 📺 https://t.co/YX27CUfDer\\n\\n¡Mucha suerte! 💙😘 https://t.co/0nUsef5bvH', 'display_text_range': [0, 185], 'entities': {'hashtags': [], 'urls': [{'url': 'https://t.co/VbWEzV9mwQ', 'expanded_url': 'https://youtu.be/qV4_vXBWv_8', 'display_url': 'youtu.be/qV4_vXBWv_8', 'indices': [96, 119]}, {'url': 'https://t.co/YX27CUfDer', 'expanded_url': 'https://gleam.io/LIHE0/sorteo-10000000-de-suscriptores', 'display_url': 'gleam.io/LIHE0/sorteo-1…', 'indices': [143, 166]}], 'user_mentions': [], 'symbols': [], 'media': [{'id': 1113923567564001280, 'id_str': '1113923567564001280', 'indices': [186, 209], 'media_url': 'http://pbs.twimg.com/media/D3VzlTeWkAAPEhy.jpg', 'media_url_https': 'https://pbs.twimg.com/media/D3VzlTeWkAAPEhy.jpg', 'url': 'https://t.co/0nUsef5bvH', 'display_url': 'pic.twitter.com/0nUsef5bvH', 'expanded_url': 'https://twitter.com/TheGrefgYT/status/1113923888675786752/photo/1', 'type': 'photo', 'sizes': {'thumb': {'w': 150, 'h': 150, 'resize': 'crop'}, 'small': {'w': 680, 'h': 383, 'resize': 'fit'}, 'large': {'w': 1280, 'h': 720, 'resize': 'fit'}, 'medium': {'w': 1200, 'h': 675, 'resize': 'fit'}}}]}, 'extended_entities': {'media': [{'id': 1113923567564001280, 'id_str': '1113923567564001280', 'indices': [186, 209], 'media_url': 'http://pbs.twimg.com/media/D3VzlTeWkAAPEhy.jpg', 'media_url_https': 'https://pbs.twimg.com/media/D3VzlTeWkAAPEhy.jpg', 'url': 'https://t.co/0nUsef5bvH', 'display_url': 'pic.twitter.com/0nUsef5bvH', 'expanded_url': 'https://twitter.com/TheGrefgYT/status/1113923888675786752/photo/1', 'type': 'photo', 'sizes': {'thumb': {'w': 150, 'h': 150, 'resize': 'crop'}, 'small': {'w': 680, 'h': 383, 'resize': 'fit'}, 'large': {'w': 1280, 'h': 720, 'resize': 'fit'}, 'medium': {'w': 1200, 'h': 675, 'resize': 'fit'}}}]}}, 'quote_count': 25902, 'reply_count': 68236, 'retweet_count': 358795, 'favorite_count': 112066, 'entities': {'hashtags': [], 'urls': [{'url': 'https://t.co/J2qlv5Am7h', 'expanded_url': 'https://twitter.com/i/web/status/1113923888675786752', 'display_url': 'twitter.com/i/web/status/1…', 'indices': [97, 120]}], 'user_mentions': [], 'symbols': []}, 'favorited': False, 'retweeted': False, 'possibly_sensitive': False, 'filter_level': 'low', 'lang': 'es'}, 'is_quote_status': False, 'quote_count': 0, 'reply_count': 0, 'retweet_count': 0, 'favorite_count': 0, 'entities': {'hashtags': [], 'urls': [{'url': 'https://t.co/VbWEzV9mwQ', 'expanded_url': 'https://youtu.be/qV4_vXBWv_8', 'display_url': 'youtu.be/qV4_vXBWv_8', 'indices': [112, 135]}], 'user_mentions': [{'screen_name': 'TheGrefgYT', 'name': 'Grefg =)', 'id': 1056396672, 'id_str': '1056396672', 'indices': [3, 14]}], 'symbols': []}, 'favorited': False, 'retweeted': False, 'possibly_sensitive': False, 'filter_level': 'low', 'lang': 'es', 'timestamp_ms': '1557170253116'}\n",
      "{'created_at': 'Mon May 06 19:17:38 +0000 2019', 'id': 1125479753929175041, 'id_str': '1125479753929175041', 'text': 'RT @litGaws: Rules to get a Free IPhone Xs or Samsung S10:\\n\\n-Have the money on Paypal ready\\n(America 20$ / Europe 15$ / Afrika and Asia 20$…', 'source': '<a href=\"http://twitter.com/download/android\" rel=\"nofollow\">Twitter for Android</a>', 'truncated': False, 'in_reply_to_status_id': None, 'in_reply_to_status_id_str': None, 'in_reply_to_user_id': None, 'in_reply_to_user_id_str': None, 'in_reply_to_screen_name': None, 'user': {'id': 823648418388131840, 'id_str': '823648418388131840', 'name': 'Crypto@Sarazin', 'screen_name': 'ShawnSarazin1', 'location': 'Ontario, Canada', 'url': None, 'description': \"crypto hodler   TKbm67pyHqvWovwTeC3D3vH9eXJa4ZcNTJ.. tron tips. lol I doubt anybody would. but doesn't hurt to try. lmfao\", 'translator_type': 'none', 'protected': False, 'verified': False, 'followers_count': 1012, 'friends_count': 4892, 'listed_count': 3, 'favourites_count': 4438, 'statuses_count': 2607, 'created_at': 'Mon Jan 23 21:47:40 +0000 2017', 'utc_offset': None, 'time_zone': None, 'geo_enabled': False, 'lang': 'en', 'contributors_enabled': False, 'is_translator': False, 'profile_background_color': 'F5F8FA', 'profile_background_image_url': '', 'profile_background_image_url_https': '', 'profile_background_tile': False, 'profile_link_color': '1DA1F2', 'profile_sidebar_border_color': 'C0DEED', 'profile_sidebar_fill_color': 'DDEEF6', 'profile_text_color': '333333', 'profile_use_background_image': True, 'profile_image_url': 'http://pbs.twimg.com/profile_images/1098401635091529728/-i2M-sWy_normal.jpg', 'profile_image_url_https': 'https://pbs.twimg.com/profile_images/1098401635091529728/-i2M-sWy_normal.jpg', 'default_profile': True, 'default_profile_image': False, 'following': None, 'follow_request_sent': None, 'notifications': None}, 'geo': None, 'coordinates': None, 'place': None, 'contributors': None, 'retweeted_status': {'created_at': 'Mon May 06 15:17:36 +0000 2019', 'id': 1125419348955475973, 'id_str': '1125419348955475973', 'text': 'Rules to get a Free IPhone Xs or Samsung S10:\\n\\n-Have the money on Paypal ready\\n(America 20$ / Europe 15$ / Afrika a… https://t.co/lyMs8PlYwU', 'source': '<a href=\"http://twitter.com/download/iphone\" rel=\"nofollow\">Twitter for iPhone</a>', 'truncated': True, 'in_reply_to_status_id': None, 'in_reply_to_status_id_str': None, 'in_reply_to_user_id': None, 'in_reply_to_user_id_str': None, 'in_reply_to_screen_name': None, 'user': {'id': 974724023857958912, 'id_str': '974724023857958912', 'name': 'litGaw‘s🔱', 'screen_name': 'litGaws', 'location': '#Litnoscam', 'url': None, 'description': \"LitGaw's | Legit Giveawayer | DM me to increase your Twitter or anything else |\", 'translator_type': 'none', 'protected': False, 'verified': False, 'followers_count': 5470, 'friends_count': 0, 'listed_count': 2, 'favourites_count': 366, 'statuses_count': 1347, 'created_at': 'Fri Mar 16 19:08:11 +0000 2018', 'utc_offset': None, 'time_zone': None, 'geo_enabled': False, 'lang': 'de', 'contributors_enabled': False, 'is_translator': False, 'profile_background_color': '000000', 'profile_background_image_url': 'http://abs.twimg.com/images/themes/theme1/bg.png', 'profile_background_image_url_https': 'https://abs.twimg.com/images/themes/theme1/bg.png', 'profile_background_tile': False, 'profile_link_color': '1B95E0', 'profile_sidebar_border_color': '000000', 'profile_sidebar_fill_color': '000000', 'profile_text_color': '000000', 'profile_use_background_image': False, 'profile_image_url': 'http://pbs.twimg.com/profile_images/997464060621864961/drAJHgix_normal.jpg', 'profile_image_url_https': 'https://pbs.twimg.com/profile_images/997464060621864961/drAJHgix_normal.jpg', 'profile_banner_url': 'https://pbs.twimg.com/profile_banners/974724023857958912/1526646191', 'default_profile': False, 'default_profile_image': False, 'following': None, 'follow_request_sent': None, 'notifications': None}, 'geo': None, 'coordinates': None, 'place': None, 'contributors': None, 'is_quote_status': False, 'extended_tweet': {'full_text': 'Rules to get a Free IPhone Xs or Samsung S10:\\n\\n-Have the money on Paypal ready\\n(America 20$ / Europe 15$ / Afrika and Asia 20$)\\n\\n-If u want a faster shippment DM me (costs more)\\n\\nI have 50 Iphones and 10 Samsung so you need to be fast', 'display_text_range': [0, 234], 'entities': {'hashtags': [], 'urls': [], 'user_mentions': [], 'symbols': []}}, 'quote_count': 1, 'reply_count': 53, 'retweet_count': 26, 'favorite_count': 130, 'entities': {'hashtags': [], 'urls': [{'url': 'https://t.co/lyMs8PlYwU', 'expanded_url': 'https://twitter.com/i/web/status/1125419348955475973', 'display_url': 'twitter.com/i/web/status/1…', 'indices': [117, 140]}], 'user_mentions': [], 'symbols': []}, 'favorited': False, 'retweeted': False, 'filter_level': 'low', 'lang': 'en'}, 'is_quote_status': False, 'quote_count': 0, 'reply_count': 0, 'retweet_count': 0, 'favorite_count': 0, 'entities': {'hashtags': [], 'urls': [], 'user_mentions': [{'screen_name': 'litGaws', 'name': 'litGaw‘s🔱', 'id': 974724023857958912, 'id_str': '974724023857958912', 'indices': [3, 11]}], 'symbols': []}, 'favorited': False, 'retweeted': False, 'filter_level': 'low', 'lang': 'en', 'timestamp_ms': '1557170258396'}\n",
      "{'created_at': 'Mon May 06 19:17:44 +0000 2019', 'id': 1125479779476561920, 'id_str': '1125479779476561920', 'text': 'Galaxy S10+はいつ頃出るんじゃ。\\nmy 7edgeのライフがヤバ気なのだが。', 'source': '<a href=\"http://twitter.com/download/android\" rel=\"nofollow\">Twitter for Android</a>', 'truncated': False, 'in_reply_to_status_id': None, 'in_reply_to_status_id_str': None, 'in_reply_to_user_id': None, 'in_reply_to_user_id_str': None, 'in_reply_to_screen_name': None, 'user': {'id': 1121736621827559430, 'id_str': '1121736621827559430', 'name': 'あずさ@コナ垢', 'screen_name': 'azuuuuusa0426', 'location': None, 'url': None, 'description': 'コナ垢、あむあずふるあずメイン、地雷無し。\\nメイン垢で迷惑かけないように作りました。\\n本垢→@karasu272751', 'translator_type': 'none', 'protected': False, 'verified': False, 'followers_count': 4, 'friends_count': 25, 'listed_count': 1, 'favourites_count': 81, 'statuses_count': 92, 'created_at': 'Fri Apr 26 11:23:46 +0000 2019', 'utc_offset': None, 'time_zone': None, 'geo_enabled': False, 'lang': 'ja', 'contributors_enabled': False, 'is_translator': False, 'profile_background_color': 'F5F8FA', 'profile_background_image_url': '', 'profile_background_image_url_https': '', 'profile_background_tile': False, 'profile_link_color': '1DA1F2', 'profile_sidebar_border_color': 'C0DEED', 'profile_sidebar_fill_color': 'DDEEF6', 'profile_text_color': '333333', 'profile_use_background_image': True, 'profile_image_url': 'http://pbs.twimg.com/profile_images/1121738848206090240/oSTKGivI_normal.jpg', 'profile_image_url_https': 'https://pbs.twimg.com/profile_images/1121738848206090240/oSTKGivI_normal.jpg', 'profile_banner_url': 'https://pbs.twimg.com/profile_banners/1121736621827559430/1556349279', 'default_profile': True, 'default_profile_image': False, 'following': None, 'follow_request_sent': None, 'notifications': None}, 'geo': None, 'coordinates': None, 'place': None, 'contributors': None, 'is_quote_status': False, 'quote_count': 0, 'reply_count': 0, 'retweet_count': 0, 'favorite_count': 0, 'entities': {'hashtags': [], 'urls': [], 'user_mentions': [], 'symbols': []}, 'favorited': False, 'retweeted': False, 'filter_level': 'low', 'lang': 'ja', 'timestamp_ms': '1557170264487'}\n",
      "{'created_at': 'Mon May 06 19:17:47 +0000 2019', 'id': 1125479790952185856, 'id_str': '1125479790952185856', 'text': '@livewithmusic03 Oi eu queria saber se vc joga fortinait se não vc poderia medar uma skin que exclusiva do s10', 'display_text_range': [17, 110], 'source': '<a href=\"http://twitter.com/download/android\" rel=\"nofollow\">Twitter for Android</a>', 'truncated': False, 'in_reply_to_status_id': 1125450689747017730, 'in_reply_to_status_id_str': '1125450689747017730', 'in_reply_to_user_id': 897887728481816577, 'in_reply_to_user_id_str': '897887728481816577', 'in_reply_to_screen_name': 'livewithmusic03', 'user': {'id': 1125132710840819714, 'id_str': '1125132710840819714', 'name': 'Otavio', 'screen_name': 'Otavio20391850', 'location': None, 'url': None, 'description': 'Dragon ball super', 'translator_type': 'none', 'protected': False, 'verified': False, 'followers_count': 1, 'friends_count': 3, 'listed_count': 0, 'favourites_count': 3, 'statuses_count': 2, 'created_at': 'Sun May 05 20:18:37 +0000 2019', 'utc_offset': None, 'time_zone': None, 'geo_enabled': False, 'lang': 'pt', 'contributors_enabled': False, 'is_translator': False, 'profile_background_color': 'F5F8FA', 'profile_background_image_url': '', 'profile_background_image_url_https': '', 'profile_background_tile': False, 'profile_link_color': '1DA1F2', 'profile_sidebar_border_color': 'C0DEED', 'profile_sidebar_fill_color': 'DDEEF6', 'profile_text_color': '333333', 'profile_use_background_image': True, 'profile_image_url': 'http://pbs.twimg.com/profile_images/1125135412694011904/NdHG6x_a_normal.jpg', 'profile_image_url_https': 'https://pbs.twimg.com/profile_images/1125135412694011904/NdHG6x_a_normal.jpg', 'default_profile': True, 'default_profile_image': False, 'following': None, 'follow_request_sent': None, 'notifications': None}, 'geo': None, 'coordinates': None, 'place': None, 'contributors': None, 'is_quote_status': False, 'quote_count': 0, 'reply_count': 0, 'retweet_count': 0, 'favorite_count': 0, 'entities': {'hashtags': [], 'urls': [], 'user_mentions': [{'screen_name': 'livewithmusic03', 'name': 'Maria_Nunes', 'id': 897887728481816577, 'id_str': '897887728481816577', 'indices': [0, 16]}], 'symbols': []}, 'favorited': False, 'retweeted': False, 'filter_level': 'low', 'lang': 'pt', 'timestamp_ms': '1557170267223'}\n"
     ]
    }
   ],
   "source": [
    "for i in datas[:5]:\n",
    "    print(i)"
   ]
  },
  {
   "cell_type": "code",
   "execution_count": 10,
   "metadata": {},
   "outputs": [
    {
     "name": "stdout",
     "output_type": "stream",
     "text": [
      "@TopesdGama Venían de obsequio con mi S10, hasta el momento geniales en todos los aspectos !!\n",
      "RT @TheGrefgYT: 💎🔥 ¡SORTEO 10.000.000 DE SUSCRIPTORES! 🔥💎\n",
      "\n",
      "x10 PS4 PRO\n",
      "x10 Galaxy S10\n",
      "\n",
      "20 GANADORES ;)\n",
      "\n",
      "Vídeo ▶ https://t.co/VbWEzV9mwQ\n",
      "Lin…\n",
      "RT @litGaws: Rules to get a Free IPhone Xs or Samsung S10:\n",
      "\n",
      "-Have the money on Paypal ready\n",
      "(America 20$ / Europe 15$ / Afrika and Asia 20$…\n",
      "Galaxy S10+はいつ頃出るんじゃ。\n",
      "my 7edgeのライフがヤバ気なのだが。\n",
      "@livewithmusic03 Oi eu queria saber se vc joga fortinait se não vc poderia medar uma skin que exclusiva do s10\n"
     ]
    }
   ],
   "source": [
    "for i in datas[:5]:\n",
    "    print(i['text'])\n"
   ]
  },
  {
   "cell_type": "markdown",
   "metadata": {},
   "source": [
    "#### How many tweets are in our data set"
   ]
  },
  {
   "cell_type": "code",
   "execution_count": 11,
   "metadata": {},
   "outputs": [
    {
     "data": {
      "text/plain": [
       "594"
      ]
     },
     "execution_count": 11,
     "metadata": {},
     "output_type": "execute_result"
    }
   ],
   "source": [
    "\n",
    "texts = [T['text'] for T in datas if 'text' in T]\n",
    "len(texts)\n"
   ]
  },
  {
   "cell_type": "code",
   "execution_count": 12,
   "metadata": {},
   "outputs": [
    {
     "data": {
      "text/plain": [
       "594"
      ]
     },
     "execution_count": 12,
     "metadata": {},
     "output_type": "execute_result"
    }
   ],
   "source": [
    "tweets = []\n",
    "for T in datas:\n",
    "    if 'text' in T:\n",
    "        tweets.append(T)\n",
    "len(tweets)   \n"
   ]
  },
  {
   "cell_type": "code",
   "execution_count": 13,
   "metadata": {},
   "outputs": [],
   "source": [
    "import nltk\n",
    "# stopwords, FreqDist, word_tokenize\n",
    "from nltk.corpus import stopwords\n",
    "from nltk import FreqDist, word_tokenize\n",
    "from nltk.stem.porter import PorterStemmer\n",
    "from nltk.stem import WordNetLemmatizer\n",
    "from nltk.corpus import stopwords\n",
    "#regular expression\n",
    "import re"
   ]
  },
  {
   "cell_type": "markdown",
   "metadata": {},
   "source": [
    "#### We are cleaning our data for samsung and iphone we needed to get rid of alot of \"extra\" words that are in our json file that are not meaningful to our analysis. Alot of the stop words are things such as lang, phone, retweet and jpg."
   ]
  },
  {
   "cell_type": "code",
   "execution_count": 14,
   "metadata": {},
   "outputs": [],
   "source": [
    "def text_processing(tweets):\n",
    "    # what if you have additional stopwords to be removed\n",
    "    tokens = str(tweets)\n",
    "    #lowecases\n",
    "    tokens = tokens.lower()\n",
    "    # Remove useless numbers and alphanumerical words\n",
    "    tokens = re.sub(\"[^a-zA-Z0-9]\", \" \", tokens)\n",
    "    #tokenization or word split\n",
    "    tokens = word_tokenize(tokens)\n",
    "    #get stemming words or lemmas\n",
    "    wordnet_lemmatizer = WordNetLemmatizer()\n",
    "    tokens = (wordnet_lemmatizer.lemmatize(word) for word in tokens)\n",
    "    #additional stopwrods\n",
    "    more_stopwords = set(('profile', 'none', 'url','http','film','count','image','com','false','status','twimg','reply','str','name'\n",
    "                          ,'user','twitter','text','jpg','index','true','resize','geo','created','enabled','default','type'\n",
    "                         ,'medium','alabdullatif','iphone','translator','lang','fit','href','contributor','sidebar','normal','quote','hashtags',\n",
    "                         'mention','png','retweeted','entity','symbol','theme','pic','thumb','crop','retweet','size','may','large','iphonexs',\n",
    "                          'mon','link','follower','following','follow','source','time'))\n",
    "    extra_stoplist = set(stopwords.words('english')) | more_stopwords\n",
    "    tokens = (word for word in tokens if word not in extra_stoplist)\n",
    "    # Filter non-alphanumeric characters from tokens\n",
    "    tokens = (word for word in tokens if word.isalpha())\n",
    "    #remove short words\n",
    "    tokens = (word for word in tokens if len(word) >= 3)\n",
    "    return tokens"
   ]
  },
  {
   "cell_type": "markdown",
   "metadata": {},
   "source": [
    "## 3b. Iphone - Data Cleaning and Text preprocessing"
   ]
  },
  {
   "cell_type": "code",
   "execution_count": 15,
   "metadata": {},
   "outputs": [
    {
     "name": "stdout",
     "output_type": "stream",
     "text": [
      "RT @News_Ejazah: جاهزين ..؟\n",
      "\n",
      "الجائزة: ( جهاز iPhone XS 📱 )\n",
      "\n",
      "المسابقة بتكون بحساب الراعي\n",
      "نحن مجرد داعمين حفظكم الله\n",
      "السحب عندهم\n",
      "\n",
      "بتشارك ضرور…\n",
      "RT @ALABDULLATIF: • أذكر في أي شهر نزل القرآن الكريم\n",
      "وادخل السحب على iPhone XS📱\n",
      "جوائزنا في رمضان (15) iPhoneXS\n",
      "\n",
      "الشروط :\n",
      "➊ متابعة حساباتنا…\n"
     ]
    }
   ],
   "source": [
    "for i in data[:2]:\n",
    "    print(i['text'])"
   ]
  },
  {
   "cell_type": "code",
   "execution_count": 16,
   "metadata": {},
   "outputs": [
    {
     "data": {
      "text/plain": [
       "612"
      ]
     },
     "execution_count": 16,
     "metadata": {},
     "output_type": "execute_result"
    }
   ],
   "source": [
    "texti = [T['text'] for T in data if 'text' in T]\n",
    "len(texti)\n",
    "\n",
    "# how many tweets we have."
   ]
  },
  {
   "cell_type": "code",
   "execution_count": 17,
   "metadata": {},
   "outputs": [
    {
     "data": {
      "text/plain": [
       "612"
      ]
     },
     "execution_count": 17,
     "metadata": {},
     "output_type": "execute_result"
    }
   ],
   "source": [
    "tweetsi = []\n",
    "for T in data:\n",
    "    if 'text' in T:\n",
    "        tweetsi.append(T)\n",
    "len(tweetsi)   \n"
   ]
  },
  {
   "cell_type": "code",
   "execution_count": 18,
   "metadata": {},
   "outputs": [],
   "source": [
    "\n",
    "def text_processing(tweetsi):\n",
    "    # what if you have additional stopwords to be removed\n",
    "    tokens = str(tweetsi)\n",
    "    #lowecases\n",
    "    tokens = tokens.lower()\n",
    "    # Remove useless numbers and alphanumerical words\n",
    "    tokens = re.sub(\"[^a-zA-Z0-9]\", \" \", tokens)\n",
    "    #tokenization or word split\n",
    "    tokens = word_tokenize(tokens)\n",
    "    #get stemming words or lemmas\n",
    "    wordnet_lemmatizer = WordNetLemmatizer()\n",
    "    tokens = (wordnet_lemmatizer.lemmatize(word) for word in tokens)\n",
    "    #additional stopwrods\n",
    "    more_stopwords = set(('profile', 'none', 'url','http','film','count','image','com','false','status','twimg','reply','str','name'\n",
    "                          ,'user','twitter','text','jpg','index','true','resize','geo','created','enabled','default','type'\n",
    "                         ,'medium','alabdullatif','iphone','translator','lang','fit','href','contributor','sidebar','normal','quote','hashtags',\n",
    "                         'mention','png','retweeted','entity','symbol','theme','pic','thumb','crop','retweet','size','may','large','iphonexs',\n",
    "                          'mon','link','follower','following','follow','source','time'))\n",
    "    extra_stoplist = set(stopwords.words('english')) | more_stopwords\n",
    "    tokens = (word for word in tokens if word not in extra_stoplist)\n",
    "    # Filter non-alphanumeric characters from tokens\n",
    "    tokens = (word for word in tokens if word.isalpha())\n",
    "    #remove short words\n",
    "    tokens = (word for word in tokens if len(word) >= 3)\n",
    "    return tokens"
   ]
  },
  {
   "cell_type": "markdown",
   "metadata": {},
   "source": [
    "## 4a.Samsung - Descriptive analytics "
   ]
  },
  {
   "cell_type": "code",
   "execution_count": 19,
   "metadata": {},
   "outputs": [
    {
     "data": {
      "text/plain": [
       "FreqDist({'background': 5405, 'color': 5400, 'screen': 3982, 'display': 3808, 'photo': 2994, 'expanded': 2643, 'banner': 1740, 'small': 1587, 'friend': 1190, 'description': 1168, ...})"
      ]
     },
     "execution_count": 19,
     "metadata": {},
     "output_type": "execute_result"
    }
   ],
   "source": [
    "fdist = nltk.FreqDist(text_processing(tweets))\n",
    "fdist"
   ]
  },
  {
   "cell_type": "code",
   "execution_count": 20,
   "metadata": {},
   "outputs": [],
   "source": [
    "# Cleaned samsung saved\n",
    "Cleaneds = fdist.most_common(100)"
   ]
  },
  {
   "cell_type": "code",
   "execution_count": 21,
   "metadata": {},
   "outputs": [
    {
     "data": {
      "text/plain": [
       "[('background', 5405),\n",
       " ('color', 5400),\n",
       " ('screen', 3982),\n",
       " ('display', 3808),\n",
       " ('photo', 2994),\n",
       " ('expanded', 2643),\n",
       " ('banner', 1740),\n",
       " ('small', 1587),\n",
       " ('friend', 1190),\n",
       " ('description', 1168),\n",
       " ('notification', 1146),\n",
       " ('video', 1144),\n",
       " ('use', 1101),\n",
       " ('coordinate', 1098),\n",
       " ('place', 1095)]"
      ]
     },
     "execution_count": 21,
     "metadata": {},
     "output_type": "execute_result"
    }
   ],
   "source": [
    "fdist.most_common(15)"
   ]
  },
  {
   "cell_type": "markdown",
   "metadata": {},
   "source": [
    "### Plot of most popular words "
   ]
  },
  {
   "cell_type": "code",
   "execution_count": 22,
   "metadata": {},
   "outputs": [
    {
     "data": {
      "image/png": "[encoded data removed]",
      "text/plain": [
       "<Figure size 864x432 with 1 Axes>"
      ]
     },
     "metadata": {
      "needs_background": "light"
     },
     "output_type": "display_data"
    }
   ],
   "source": [
    "plt.figure(figsize=(12,6))\n",
    "fdist.plot(10)"
   ]
  },
  {
   "cell_type": "code",
   "execution_count": 23,
   "metadata": {},
   "outputs": [
    {
     "name": "stdout",
     "output_type": "stream",
     "text": [
      "Carlos_florez_c\n",
      "AnitaClapton5\n",
      "ShawnSarazin1\n",
      "azuuuuusa0426\n",
      "Otavio20391850\n"
     ]
    }
   ],
   "source": [
    "for i in datas [:5]:\n",
    "    print(i['user']['screen_name'])\n",
    "    \n",
    "#Usernames."
   ]
  },
  {
   "cell_type": "markdown",
   "metadata": {},
   "source": [
    "### Bi-Gram"
   ]
  },
  {
   "cell_type": "code",
   "execution_count": 24,
   "metadata": {},
   "outputs": [
    {
     "data": {
      "text/plain": [
       "FreqDist({('background', 'background'): 1906, ('photo', 'small'): 1516, ('photo', 'photo'): 1465, ('display', 'expanded'): 1388, ('rel', 'nofollow'): 1080, ('truncated', 'screen'): 1080, ('protected', 'verified'): 1080, ('verified', 'friend'): 1080, ('friend', 'listed'): 1080, ('listed', 'favourite'): 1080, ...})"
      ]
     },
     "execution_count": 24,
     "metadata": {},
     "output_type": "execute_result"
    }
   ],
   "source": [
    "tokens = str(tweets)\n",
    "#lowecases\n",
    "tokens = tokens.lower()\n",
    "# Remove useless numbers and alphanumerical words\n",
    "tokens = re.sub(\"[^a-zA-Z0-9]\", \" \", tokens)\n",
    "#tokenization or word split\n",
    "tokens = word_tokenize(tokens)\n",
    "#get stemming words or lemmas\n",
    "wordnet_lemmatizer = WordNetLemmatizer()\n",
    "tokens = (wordnet_lemmatizer.lemmatize(word) for word in tokens)\n",
    "#additional stopwrods\n",
    "more_stopwords = set(('profile', 'none', 'url','http','film','count','image','com','false','status','twimg','reply','str','name'\n",
    "                          ,'user','twitter','text','jpg','index','true','resize','geo','created','enabled','default','type'\n",
    "                         ,'medium','alabdullatif','iphone','translator','lang','fit','href','contributor','sidebar','normal','quote','hashtags',\n",
    "                         'mention','png','retweeted','entity','symbol','theme','pic','thumb','crop','retweet','size','may','large','iphonexs',\n",
    "                          'mon','link','follower','following','follow','source','time'))\n",
    "extra_stoplist = set(stopwords.words('english')) | more_stopwords\n",
    "tokens = (word for word in tokens if word not in extra_stoplist)\n",
    "# Filter non-alphanumeric characters from tokens\n",
    "tokens = (word for word in tokens if word.isalpha())\n",
    "#remove short words\n",
    "tokens = (word for word in tokens if len(word) >= 3)\n",
    "#Create your bigrams ... a bigram are a pair of two tokens\n",
    "bigrams = nltk.bigrams(tokens)\n",
    "#compute frequency distribution for all the bigrams in the text\n",
    "fdist_bi_auto = nltk.FreqDist(bigrams)\n",
    "fdist_bi_auto"
   ]
  },
  {
   "cell_type": "markdown",
   "metadata": {},
   "source": [
    "### Word Cloud for Samsung"
   ]
  },
  {
   "cell_type": "code",
   "execution_count": 25,
   "metadata": {},
   "outputs": [
    {
     "data": {
      "text/plain": [
       "(-0.5, 399.5, 199.5, -0.5)"
      ]
     },
     "execution_count": 25,
     "metadata": {},
     "output_type": "execute_result"
    },
    {
     "data": {
      "image/png": "[encoded data removed]",
      "text/plain": [
       "<Figure size 432x288 with 1 Axes>"
      ]
     },
     "metadata": {
      "needs_background": "light"
     },
     "output_type": "display_data"
    },
    {
     "data": {
      "image/png": "[encoded data removed]",
      "text/plain": [
       "<Figure size 432x288 with 1 Axes>"
      ]
     },
     "metadata": {
      "needs_background": "light"
     },
     "output_type": "display_data"
    }
   ],
   "source": [
    "from os import path\n",
    "from wordcloud import WordCloud, STOPWORDS\n",
    "import matplotlib.pyplot as plt\n",
    "%matplotlib inline\n",
    "\n",
    "text = str(Cleaneds)\n",
    "\n",
    "# Generate a word cloud image\n",
    "wordcloud = WordCloud().generate(text)\n",
    "\n",
    "# Display the generated image:\n",
    "# the matplotlib way:\n",
    "plt.imshow(wordcloud)\n",
    "plt.axis(\"off\")\n",
    "\n",
    "# take relative word frequencies into account, lower max_font_size\n",
    "wordcloud = WordCloud(max_font_size=40, relative_scaling=.5).generate(text)\n",
    "plt.figure()\n",
    "plt.imshow(wordcloud)\n",
    "plt.axis(\"off\")"
   ]
  },
  {
   "cell_type": "markdown",
   "metadata": {},
   "source": [
    "## 4a.Iphone - Descriptive analytics "
   ]
  },
  {
   "cell_type": "code",
   "execution_count": 26,
   "metadata": {},
   "outputs": [
    {
     "data": {
      "text/plain": [
       "FreqDist({'background': 6925, 'color': 6925, 'screen': 4537, 'display': 3790, 'photo': 2993, 'expanded': 2458, 'banner': 2306, 'small': 1473, 'notification': 1429, 'friend': 1387, ...})"
      ]
     },
     "execution_count": 26,
     "metadata": {},
     "output_type": "execute_result"
    }
   ],
   "source": [
    "fdisti = nltk.FreqDist(text_processing(tweetsi))\n",
    "fdisti"
   ]
  },
  {
   "cell_type": "code",
   "execution_count": 27,
   "metadata": {},
   "outputs": [],
   "source": [
    "# Cleaned iphone saved\n",
    "Cleanedi = fdisti.most_common(100)"
   ]
  },
  {
   "cell_type": "code",
   "execution_count": 28,
   "metadata": {},
   "outputs": [
    {
     "data": {
      "text/plain": [
       "[('background', 6925),\n",
       " ('color', 6925),\n",
       " ('screen', 4537),\n",
       " ('display', 3790),\n",
       " ('photo', 2993),\n",
       " ('expanded', 2458),\n",
       " ('banner', 2306),\n",
       " ('small', 1473),\n",
       " ('notification', 1429),\n",
       " ('friend', 1387),\n",
       " ('rel', 1385),\n",
       " ('nofollow', 1385),\n",
       " ('truncated', 1385),\n",
       " ('location', 1385),\n",
       " ('description', 1385)]"
      ]
     },
     "execution_count": 28,
     "metadata": {},
     "output_type": "execute_result"
    }
   ],
   "source": [
    "fdisti.most_common(15)"
   ]
  },
  {
   "cell_type": "code",
   "execution_count": 29,
   "metadata": {},
   "outputs": [
    {
     "data": {
      "image/png": "[encoded data removed]",
      "text/plain": [
       "<Figure size 864x432 with 1 Axes>"
      ]
     },
     "metadata": {
      "needs_background": "light"
     },
     "output_type": "display_data"
    }
   ],
   "source": [
    "plt.figure(figsize=(12,6))\n",
    "fdisti.plot(10)"
   ]
  },
  {
   "cell_type": "code",
   "execution_count": 30,
   "metadata": {},
   "outputs": [
    {
     "data": {
      "text/plain": [
       "FreqDist({('background', 'background'): 2704, ('screen', 'screen'): 1621, ('photo', 'photo'): 1473, ('photo', 'small'): 1473, ('display', 'expanded'): 1461, ('rel', 'nofollow'): 1385, ('truncated', 'screen'): 1385, ('protected', 'verified'): 1385, ('verified', 'friend'): 1385, ('friend', 'listed'): 1385, ...})"
      ]
     },
     "execution_count": 30,
     "metadata": {},
     "output_type": "execute_result"
    }
   ],
   "source": [
    "tokens = str(tweetsi)\n",
    "#lowecases\n",
    "tokens = tokens.lower()\n",
    "# Remove useless numbers and alphanumerical words\n",
    "tokens = re.sub(\"[^a-zA-Z0-9]\", \" \", tokens)\n",
    "#tokenization or word split\n",
    "tokens = word_tokenize(tokens)\n",
    "#get stemming words or lemmas\n",
    "wordnet_lemmatizer = WordNetLemmatizer()\n",
    "tokens = (wordnet_lemmatizer.lemmatize(word) for word in tokens)\n",
    "#additional stopwrods\n",
    "more_stopwords = set(('profile', 'none', 'url','http','film','count','image','com','false','status','twimg','reply','str','name'\n",
    "                          ,'user','twitter','text','jpg','index','true','resize','geo','created','enabled','default','type'\n",
    "                         ,'medium','alabdullatif','iphone','translator','lang','fit','href','contributor','sidebar','normal','quote','hashtags',\n",
    "                         'mention','png','retweeted','entity','symbol','theme','pic','thumb','crop','retweet','size','may','large','iphonexs',\n",
    "                          'mon','link','follower','following','follow','source','time'))\n",
    "extra_stoplist = set(stopwords.words('english')) | more_stopwords\n",
    "tokens = (word for word in tokens if word not in extra_stoplist)\n",
    "# Filter non-alphanumeric characters from tokens\n",
    "tokens = (word for word in tokens if word.isalpha())\n",
    "#remove short words\n",
    "tokens = (word for word in tokens if len(word) >= 3)\n",
    "#Create your bigrams ... a bigram are a pair of two tokens\n",
    "bigrams = nltk.bigrams(tokens)\n",
    "#compute frequency distribution for all the bigrams in the text\n",
    "fdist_i_auto = nltk.FreqDist(bigrams)\n",
    "fdist_i_auto"
   ]
  },
  {
   "cell_type": "markdown",
   "metadata": {},
   "source": [
    "### Word Cloud for iphone"
   ]
  },
  {
   "cell_type": "code",
   "execution_count": 31,
   "metadata": {},
   "outputs": [
    {
     "data": {
      "text/plain": [
       "(-0.5, 399.5, 199.5, -0.5)"
      ]
     },
     "execution_count": 31,
     "metadata": {},
     "output_type": "execute_result"
    },
    {
     "data": {
      "image/png": "[encoded data removed]",
      "text/plain": [
       "<Figure size 432x288 with 1 Axes>"
      ]
     },
     "metadata": {
      "needs_background": "light"
     },
     "output_type": "display_data"
    },
    {
     "data": {
      "image/png": "[encoded data removed]",
      "text/plain": [
       "<Figure size 432x288 with 1 Axes>"
      ]
     },
     "metadata": {
      "needs_background": "light"
     },
     "output_type": "display_data"
    }
   ],
   "source": [
    "from os import path\n",
    "from wordcloud import WordCloud, STOPWORDS\n",
    "import matplotlib.pyplot as plt\n",
    "%matplotlib inline\n",
    "\n",
    "text = str(Cleanedi)\n",
    "\n",
    "# Generate a word cloud image\n",
    "wordcloud = WordCloud().generate(text)\n",
    "\n",
    "# Display the generated image:\n",
    "# the matplotlib way:\n",
    "plt.imshow(wordcloud)\n",
    "plt.axis(\"off\")\n",
    "\n",
    "# take relative word frequencies into account, lower max_font_size\n",
    "wordcloud = WordCloud(max_font_size=40, relative_scaling=.5).generate(text)\n",
    "plt.figure()\n",
    "plt.imshow(wordcloud)\n",
    "plt.axis(\"off\")"
   ]
  },
  {
   "cell_type": "markdown",
   "metadata": {},
   "source": [
    "## 5a. Samsung - Content analytics - sentiment analysis"
   ]
  },
  {
   "cell_type": "markdown",
   "metadata": {},
   "source": [
    "#### ** Creating dataframe for tweets about samsung and iPhone to use for sentiment analysis. We made this next cell NBConvert because we do not need to create the csv again and would tamper with our code following. We have attached both csv in our files to load in our dataframes. **"
   ]
  },
  {
   "cell_type": "raw",
   "metadata": {},
   "source": [
    "ids = [T['id_str'] for T in tweets]\n",
    "times = [T['created_at'] for T in tweets]\n",
    "texts = [T['text'] for T in tweets]\n",
    "screen_names = [T['user']['screen_name'] for T in tweets]\n",
    "followers_count = [T['user']['followers_count'] for T in tweets]\n",
    "friends_count = [T['user']['friends_count'] for T in tweets]\n",
    "names = [T['user']['name'] for T in tweets]\n",
    "lats = [(T['geo']['coordinates'][0] if T['geo'] else None) for T in tweets]\n",
    "lons = [(T['geo']['coordinates'][1] if T['geo'] else None) for T in tweets]\n",
    "place_names = [(T['place']['full_name'] if T['place'] else None) for T in tweets]\n",
    "place_types = [(T['place']['place_type'] if T['place'] else None) for T in tweets]\n",
    "\n",
    "# open an output csv file to write to\n",
    "out = open('tweetsSamsung.csv', 'w', encoding='UTF-8', newline='')\n",
    "\n",
    "# write the header of our CSV as its first line\n",
    "out.write('id,created at,text,screen_names,followers_count,friends_count,name,lat,lon,place name,place type\\n')\n",
    "\n",
    "# merge each individual list into a single list using the zip function\n",
    "rows = list(zip(ids, times, texts, screen_names, followers_count, friends_count, names, lats, lons, place_names, place_types))\n",
    "\n",
    "# use the writer module on our csv file\n",
    "csv = csv.writer(out)\n",
    "\n",
    "# use one value from each of our rows list and write it to the csv as a new row\n",
    "for row in rows:\n",
    "    values = [value for value in row]\n",
    "    #values = [(value.encode('utf8') if hasattr(value, 'encode') else value) for value in row]\n",
    "    csv.writerow(values)\n",
    "\n",
    "# close our csv file when done\n",
    "out.close()\n",
    "\n",
    "#http://mike.teczno.com/notes/streaming-data-from-twitter.html"
   ]
  },
  {
   "cell_type": "code",
   "execution_count": 33,
   "metadata": {},
   "outputs": [
    {
     "data": {
      "text/html": [
       "<div>\n",
       "<style scoped>\n",
       "    .dataframe tbody tr th:only-of-type {\n",
       "        vertical-align: middle;\n",
       "    }\n",
       "\n",
       "    .dataframe tbody tr th {\n",
       "        vertical-align: top;\n",
       "    }\n",
       "\n",
       "    .dataframe thead th {\n",
       "        text-align: right;\n",
       "    }\n",
       "</style>\n",
       "<table border=\"1\" class=\"dataframe\">\n",
       "  <thead>\n",
       "    <tr style=\"text-align: right;\">\n",
       "      <th></th>\n",
       "      <th>id</th>\n",
       "      <th>created at</th>\n",
       "      <th>text</th>\n",
       "      <th>screen_names</th>\n",
       "      <th>followers_count</th>\n",
       "      <th>friends_count</th>\n",
       "      <th>name</th>\n",
       "      <th>lat</th>\n",
       "      <th>lon</th>\n",
       "      <th>place name</th>\n",
       "      <th>place type</th>\n",
       "    </tr>\n",
       "  </thead>\n",
       "  <tbody>\n",
       "    <tr>\n",
       "      <th>0</th>\n",
       "      <td>1125479593694117888</td>\n",
       "      <td>Mon May 06 19:17:00 +0000 2019</td>\n",
       "      <td>@TopesdGama Venían de obsequio con mi S10, has...</td>\n",
       "      <td>Carlos_florez_c</td>\n",
       "      <td>0</td>\n",
       "      <td>103</td>\n",
       "      <td>Carlos</td>\n",
       "      <td>NaN</td>\n",
       "      <td>NaN</td>\n",
       "      <td>NaN</td>\n",
       "      <td>NaN</td>\n",
       "    </tr>\n",
       "    <tr>\n",
       "      <th>1</th>\n",
       "      <td>1125479731783139329</td>\n",
       "      <td>Mon May 06 19:17:33 +0000 2019</td>\n",
       "      <td>RT @TheGrefgYT: 💎🔥 ¡SORTEO 10.000.000 DE SUSCR...</td>\n",
       "      <td>AnitaClapton5</td>\n",
       "      <td>7</td>\n",
       "      <td>444</td>\n",
       "      <td>Anita Clapton</td>\n",
       "      <td>NaN</td>\n",
       "      <td>NaN</td>\n",
       "      <td>NaN</td>\n",
       "      <td>NaN</td>\n",
       "    </tr>\n",
       "    <tr>\n",
       "      <th>2</th>\n",
       "      <td>1125479753929175041</td>\n",
       "      <td>Mon May 06 19:17:38 +0000 2019</td>\n",
       "      <td>RT @litGaws: Rules to get a Free IPhone Xs or ...</td>\n",
       "      <td>ShawnSarazin1</td>\n",
       "      <td>1012</td>\n",
       "      <td>4892</td>\n",
       "      <td>Crypto@Sarazin</td>\n",
       "      <td>NaN</td>\n",
       "      <td>NaN</td>\n",
       "      <td>NaN</td>\n",
       "      <td>NaN</td>\n",
       "    </tr>\n",
       "    <tr>\n",
       "      <th>3</th>\n",
       "      <td>1125479779476561920</td>\n",
       "      <td>Mon May 06 19:17:44 +0000 2019</td>\n",
       "      <td>Galaxy S10+はいつ頃出るんじゃ。\\nmy 7edgeのライフがヤバ気なのだが。</td>\n",
       "      <td>azuuuuusa0426</td>\n",
       "      <td>4</td>\n",
       "      <td>25</td>\n",
       "      <td>あずさ@コナ垢</td>\n",
       "      <td>NaN</td>\n",
       "      <td>NaN</td>\n",
       "      <td>NaN</td>\n",
       "      <td>NaN</td>\n",
       "    </tr>\n",
       "    <tr>\n",
       "      <th>4</th>\n",
       "      <td>1125479790952185856</td>\n",
       "      <td>Mon May 06 19:17:47 +0000 2019</td>\n",
       "      <td>@livewithmusic03 Oi eu queria saber se vc joga...</td>\n",
       "      <td>Otavio20391850</td>\n",
       "      <td>1</td>\n",
       "      <td>3</td>\n",
       "      <td>Otavio</td>\n",
       "      <td>NaN</td>\n",
       "      <td>NaN</td>\n",
       "      <td>NaN</td>\n",
       "      <td>NaN</td>\n",
       "    </tr>\n",
       "  </tbody>\n",
       "</table>\n",
       "</div>"
      ],
      "text/plain": [
       "                    id                      created at  \\\n",
       "0  1125479593694117888  Mon May 06 19:17:00 +0000 2019   \n",
       "1  1125479731783139329  Mon May 06 19:17:33 +0000 2019   \n",
       "2  1125479753929175041  Mon May 06 19:17:38 +0000 2019   \n",
       "3  1125479779476561920  Mon May 06 19:17:44 +0000 2019   \n",
       "4  1125479790952185856  Mon May 06 19:17:47 +0000 2019   \n",
       "\n",
       "                                                text     screen_names  \\\n",
       "0  @TopesdGama Venían de obsequio con mi S10, has...  Carlos_florez_c   \n",
       "1  RT @TheGrefgYT: 💎🔥 ¡SORTEO 10.000.000 DE SUSCR...    AnitaClapton5   \n",
       "2  RT @litGaws: Rules to get a Free IPhone Xs or ...    ShawnSarazin1   \n",
       "3       Galaxy S10+はいつ頃出るんじゃ。\\nmy 7edgeのライフがヤバ気なのだが。    azuuuuusa0426   \n",
       "4  @livewithmusic03 Oi eu queria saber se vc joga...   Otavio20391850   \n",
       "\n",
       "   followers_count  friends_count            name  lat  lon place name  \\\n",
       "0                0            103          Carlos  NaN  NaN        NaN   \n",
       "1                7            444   Anita Clapton  NaN  NaN        NaN   \n",
       "2             1012           4892  Crypto@Sarazin  NaN  NaN        NaN   \n",
       "3                4             25         あずさ@コナ垢  NaN  NaN        NaN   \n",
       "4                1              3          Otavio  NaN  NaN        NaN   \n",
       "\n",
       "  place type  \n",
       "0        NaN  \n",
       "1        NaN  \n",
       "2        NaN  \n",
       "3        NaN  \n",
       "4        NaN  "
      ]
     },
     "execution_count": 33,
     "metadata": {},
     "output_type": "execute_result"
    }
   ],
   "source": [
    "df = pd.read_csv(\"tweetsSamsung.csv\")\n",
    "df.head()"
   ]
  },
  {
   "cell_type": "markdown",
   "metadata": {},
   "source": [
    "#### Cleaning our new samsung dataset"
   ]
  },
  {
   "cell_type": "code",
   "execution_count": 34,
   "metadata": {},
   "outputs": [],
   "source": [
    "df['text'] = df.text.str.replace('\\d+', '')"
   ]
  },
  {
   "cell_type": "code",
   "execution_count": 35,
   "metadata": {},
   "outputs": [],
   "source": [
    "#Remove urls and the update the column\n",
    "df['text'] = df.text.str.replace('http\\S+|www.\\S+', '')"
   ]
  },
  {
   "cell_type": "code",
   "execution_count": 36,
   "metadata": {},
   "outputs": [],
   "source": [
    "# rid of useless characters\n",
    "df['text'] = df.text.str.replace('[^a-zA-Z0-9]+', ' ')"
   ]
  },
  {
   "cell_type": "code",
   "execution_count": 37,
   "metadata": {},
   "outputs": [],
   "source": [
    "df['text'] = df.text.str.findall('\\w{3,}').str.join(' ')"
   ]
  },
  {
   "cell_type": "code",
   "execution_count": 38,
   "metadata": {},
   "outputs": [],
   "source": [
    "# Remove stopwords\n",
    "from nltk.corpus import stopwords\n",
    "#additional stopwrods\n",
    "more_stopwords = set(('profile', 'none', 'url','http','film','count','image','com','false','status','twimg','reply','str','name'\n",
    "                          ,'user','twitter','text','jpg','index','true','resize','geo','created','enabled','default','type'\n",
    "                         ,'medium','alabdullatif','iphone','translator','lang','fit','href','contributor','sidebar','normal','quote','hashtags',\n",
    "                         'mention','png','retweeted','entity','symbol','theme','pic','thumb','crop','retweet','size','may','large','iphonexs',\n",
    "                          'mon','link','follower','following','follow','source','time'))\n",
    "stopwords = stopwords.words('english')"
   ]
  },
  {
   "cell_type": "code",
   "execution_count": 39,
   "metadata": {},
   "outputs": [],
   "source": [
    "df['text'] = df.text.apply(lambda x: ' '.join([word for word in x.split() if word not in (stopwords)]))"
   ]
  },
  {
   "cell_type": "code",
   "execution_count": 40,
   "metadata": {},
   "outputs": [],
   "source": [
    "#get stemming words or lemmas\n",
    "wordnet_lemmatizer = WordNetLemmatizer()\n",
    "# what if you have additional stopwords to be removed\n",
    "df['text'] = df.text.apply(lambda x: ' '.join([wordnet_lemmatizer.lemmatize(word) for word in x.split()]))"
   ]
  },
  {
   "cell_type": "code",
   "execution_count": 41,
   "metadata": {},
   "outputs": [
    {
     "data": {
      "text/html": [
       "<div>\n",
       "<style scoped>\n",
       "    .dataframe tbody tr th:only-of-type {\n",
       "        vertical-align: middle;\n",
       "    }\n",
       "\n",
       "    .dataframe tbody tr th {\n",
       "        vertical-align: top;\n",
       "    }\n",
       "\n",
       "    .dataframe thead th {\n",
       "        text-align: right;\n",
       "    }\n",
       "</style>\n",
       "<table border=\"1\" class=\"dataframe\">\n",
       "  <thead>\n",
       "    <tr style=\"text-align: right;\">\n",
       "      <th></th>\n",
       "      <th>id</th>\n",
       "      <th>created at</th>\n",
       "      <th>text</th>\n",
       "      <th>screen_names</th>\n",
       "      <th>followers_count</th>\n",
       "      <th>friends_count</th>\n",
       "      <th>name</th>\n",
       "      <th>lat</th>\n",
       "      <th>lon</th>\n",
       "      <th>place name</th>\n",
       "      <th>place type</th>\n",
       "    </tr>\n",
       "  </thead>\n",
       "  <tbody>\n",
       "    <tr>\n",
       "      <th>0</th>\n",
       "      <td>1125479593694117888</td>\n",
       "      <td>Mon May 06 19:17:00 +0000 2019</td>\n",
       "      <td>TopesdGama Ven obsequio con hasta momento geni...</td>\n",
       "      <td>Carlos_florez_c</td>\n",
       "      <td>0</td>\n",
       "      <td>103</td>\n",
       "      <td>Carlos</td>\n",
       "      <td>NaN</td>\n",
       "      <td>NaN</td>\n",
       "      <td>NaN</td>\n",
       "      <td>NaN</td>\n",
       "    </tr>\n",
       "  </tbody>\n",
       "</table>\n",
       "</div>"
      ],
      "text/plain": [
       "                    id                      created at  \\\n",
       "0  1125479593694117888  Mon May 06 19:17:00 +0000 2019   \n",
       "\n",
       "                                                text     screen_names  \\\n",
       "0  TopesdGama Ven obsequio con hasta momento geni...  Carlos_florez_c   \n",
       "\n",
       "   followers_count  friends_count    name  lat  lon place name place type  \n",
       "0                0            103  Carlos  NaN  NaN        NaN        NaN  "
      ]
     },
     "execution_count": 41,
     "metadata": {},
     "output_type": "execute_result"
    }
   ],
   "source": [
    "df.head(1)"
   ]
  },
  {
   "cell_type": "markdown",
   "metadata": {},
   "source": [
    "#### We need to convert text column in our df to str so we can run sentiment analysis."
   ]
  },
  {
   "cell_type": "code",
   "execution_count": 42,
   "metadata": {},
   "outputs": [],
   "source": [
    "best = df.text.astype(str)"
   ]
  },
  {
   "cell_type": "markdown",
   "metadata": {},
   "source": [
    "### TextBlob"
   ]
  },
  {
   "cell_type": "code",
   "execution_count": 212,
   "metadata": {},
   "outputs": [
    {
     "name": "stdout",
     "output_type": "stream",
     "text": [
      "0.0 0.0\n",
      "0.0 0.0\n",
      "0.30000000000000004 0.65\n",
      "0.0 0.0\n",
      "0.0 0.0\n"
     ]
    }
   ],
   "source": [
    "for row in best[:5]:\n",
    "    print(TextBlob(row).sentiment.polarity, TextBlob(row).sentiment.subjectivity)"
   ]
  },
  {
   "cell_type": "code",
   "execution_count": 213,
   "metadata": {},
   "outputs": [],
   "source": [
    "positive_review = []\n",
    "negative_review = []\n",
    "neutral_review = []\n",
    "\n",
    "for row in best:\n",
    "    #tweet = row[0]\n",
    "    score = TextBlob(row).sentiment.polarity\n",
    "    if score > 0:\n",
    "        positive_review.append(row)\n",
    "    elif score == 0:\n",
    "        neutral_review.append(row)\n",
    "    else:\n",
    "        negative_review.append(row)"
   ]
  },
  {
   "cell_type": "code",
   "execution_count": 214,
   "metadata": {},
   "outputs": [
    {
     "name": "stdout",
     "output_type": "stream",
     "text": [
      "153\n",
      "40\n",
      "401\n"
     ]
    }
   ],
   "source": [
    "print(len(positive_review))\n",
    "print(len(negative_review))\n",
    "print(len(neutral_review))"
   ]
  },
  {
   "cell_type": "markdown",
   "metadata": {},
   "source": [
    "### Bing Liu"
   ]
  },
  {
   "cell_type": "code",
   "execution_count": 215,
   "metadata": {},
   "outputs": [
    {
     "name": "stdout",
     "output_type": "stream",
     "text": [
      "0 0 0 Neutral\n",
      "0 0 0 Neutral\n",
      "2 0 2 Positive\n",
      "0 0 0 Neutral\n",
      "0 0 0 Neutral\n"
     ]
    }
   ],
   "source": [
    "# Sentiment analysis using Big Liu\n",
    "documents = [re.sub(\"[^a-zA-Z]+\", \" \", document) for document in best]\n",
    "# tokenize\n",
    "texts = [[word for word in document.lower().split() ] for document in documents]\n",
    "#Bing-Liu lexicon (positive word list & negative word list)\n",
    "positive_words = open(\"data/positive-words.txt\", \"r\").read().splitlines()\n",
    "negative_words = open(\"data/negative-words.txt\", \"r\").read().splitlines()\n",
    "\n",
    "for sentence in texts[:5]:\n",
    "    positive = 0\n",
    "    negative = 0\n",
    "    for word in sentence:\n",
    "        if word in positive_words:\n",
    "            positive += 1\n",
    "        elif word in negative_words:\n",
    "            negative += 1\n",
    "    print(positive, negative, positive-negative, \"Positive\" if positive-negative > 0 else \"Neutral\" if positive-negative == 0 else \"Negative\")"
   ]
  },
  {
   "cell_type": "code",
   "execution_count": 216,
   "metadata": {},
   "outputs": [],
   "source": [
    "# Reviews in dataframes of the bing liu's analysis\n",
    "\n",
    "positive_review = []\n",
    "negative_review = []\n",
    "neutral_review = []\n",
    "\n",
    "for sentence in texts:\n",
    "    positive = 0\n",
    "    negative = 0\n",
    "    for word in sentence:\n",
    "        if word in positive_words:\n",
    "            positive += 1\n",
    "        elif word in negative_words:\n",
    "            negative += 1\n",
    "    if positive-negative > 0:\n",
    "        positive_review.append(sentence)\n",
    "    elif positive-negative == 0:\n",
    "        neutral_review.append(sentence)\n",
    "    else:\n",
    "        negative_review.append(sentence)"
   ]
  },
  {
   "cell_type": "code",
   "execution_count": 217,
   "metadata": {},
   "outputs": [
    {
     "name": "stdout",
     "output_type": "stream",
     "text": [
      "195\n",
      "58\n",
      "341\n"
     ]
    }
   ],
   "source": [
    "print(len(positive_review))\n",
    "print(len(negative_review))\n",
    "print(len(neutral_review))"
   ]
  },
  {
   "cell_type": "markdown",
   "metadata": {},
   "source": [
    "### Vadar Analysis"
   ]
  },
  {
   "cell_type": "code",
   "execution_count": 218,
   "metadata": {},
   "outputs": [],
   "source": [
    "# sentiment analysis\n",
    "from nltk.sentiment.vader import SentimentIntensityAnalyzer"
   ]
  },
  {
   "cell_type": "code",
   "execution_count": 219,
   "metadata": {},
   "outputs": [],
   "source": [
    "analyzer = SentimentIntensityAnalyzer()"
   ]
  },
  {
   "cell_type": "code",
   "execution_count": 220,
   "metadata": {},
   "outputs": [
    {
     "name": "stdout",
     "output_type": "stream",
     "text": [
      "0.0\n",
      "0.0\n",
      "0.7003\n",
      "0.0\n",
      "0.0\n"
     ]
    }
   ],
   "source": [
    "for sentence in best[:5]:\n",
    "    #sentence = row[0]\n",
    "    vs = analyzer.polarity_scores(sentence)\n",
    "    #print(\"{:-<65} {}\".format(sentence, str(vs)))\n",
    "    print((str(vs[\"compound\"])))\n",
    "    "
   ]
  },
  {
   "cell_type": "code",
   "execution_count": 221,
   "metadata": {},
   "outputs": [],
   "source": [
    "#vadar analysis for finding postive and neg reviews\n",
    "positive_review = []\n",
    "negative_review = []\n",
    "neutral_review = []\n",
    "\n",
    "for sentence in documents:\n",
    "    #tweet = row[0]\n",
    "    score = analyzer.polarity_scores(sentence)\n",
    "    mvs = score[\"compound\"]\n",
    "    if mvs > 0:\n",
    "        positive_review.append(sentence)\n",
    "    elif mvs == 0:\n",
    "        neutral_review.append(sentence)\n",
    "    else:\n",
    "        negative_review.append(sentence)"
   ]
  },
  {
   "cell_type": "code",
   "execution_count": 222,
   "metadata": {},
   "outputs": [
    {
     "name": "stdout",
     "output_type": "stream",
     "text": [
      "219\n",
      "31\n",
      "344\n"
     ]
    }
   ],
   "source": [
    "print(len(positive_review))\n",
    "print(len(negative_review))\n",
    "print(len(neutral_review))"
   ]
  },
  {
   "cell_type": "markdown",
   "metadata": {},
   "source": [
    "## 5b. Iphone - Content analytics - sentiment analysis"
   ]
  },
  {
   "cell_type": "markdown",
   "metadata": {},
   "source": [
    "#### See above for next cell as RAW NBconvert "
   ]
  },
  {
   "cell_type": "raw",
   "metadata": {},
   "source": [
    "ids = [T['id_str'] for T in tweetsi]\n",
    "times = [T['created_at'] for T in tweetsi]\n",
    "texts = [T['text'] for T in tweetsi]\n",
    "screen_names = [T['user']['screen_name'] for T in tweetsi]\n",
    "followers_count = [T['user']['followers_count'] for T in tweetsi]\n",
    "friends_count = [T['user']['friends_count'] for T in tweetsi]\n",
    "names = [T['user']['name'] for T in tweetsi]\n",
    "lats = [(T['geo']['coordinates'][0] if T['geo'] else None) for T in tweetsi]\n",
    "lons = [(T['geo']['coordinates'][1] if T['geo'] else None) for T in tweetsi]\n",
    "place_names = [(T['place']['full_name'] if T['place'] else None) for T in tweetsi]\n",
    "place_types = [(T['place']['place_type'] if T['place'] else None) for T in tweetsi]\n",
    "\n",
    "# open an output csv file to write to\n",
    "out = open('tweetsIphone.csv', 'w', encoding='UTF-8', newline='')\n",
    "\n",
    "# write the header of our CSV as its first line\n",
    "out.write('id,created at,text,screen_names,followers_count,friends_count,name,lat,lon,place name,place type\\n')\n",
    "\n",
    "# merge each individual list into a single list using the zip function\n",
    "rows = list(zip(ids, times, texts, screen_names, followers_count, friends_count, names, lats, lons, place_names, place_types))\n",
    "\n",
    "# use the writer module on our csv file\n",
    "csv = csv.writer(out)\n",
    "\n",
    "# use one value from each of our rows list and write it to the csv as a new row\n",
    "for row in rows:\n",
    "    values = [value for value in row]\n",
    "    #values = [(value.encode('utf8') if hasattr(value, 'encode') else value) for value in row]\n",
    "    csv.writerow(values)\n",
    "\n",
    "# close our csv file when done\n",
    "out.close()\n",
    "\n",
    "#http://mike.teczno.com/notes/streaming-data-from-twitter.html"
   ]
  },
  {
   "cell_type": "code",
   "execution_count": 224,
   "metadata": {},
   "outputs": [
    {
     "data": {
      "text/html": [
       "<div>\n",
       "<style scoped>\n",
       "    .dataframe tbody tr th:only-of-type {\n",
       "        vertical-align: middle;\n",
       "    }\n",
       "\n",
       "    .dataframe tbody tr th {\n",
       "        vertical-align: top;\n",
       "    }\n",
       "\n",
       "    .dataframe thead th {\n",
       "        text-align: right;\n",
       "    }\n",
       "</style>\n",
       "<table border=\"1\" class=\"dataframe\">\n",
       "  <thead>\n",
       "    <tr style=\"text-align: right;\">\n",
       "      <th></th>\n",
       "      <th>id</th>\n",
       "      <th>created at</th>\n",
       "      <th>text</th>\n",
       "      <th>screen_names</th>\n",
       "      <th>followers_count</th>\n",
       "      <th>friends_count</th>\n",
       "      <th>name</th>\n",
       "      <th>lat</th>\n",
       "      <th>lon</th>\n",
       "      <th>place name</th>\n",
       "      <th>place type</th>\n",
       "    </tr>\n",
       "  </thead>\n",
       "  <tbody>\n",
       "    <tr>\n",
       "      <th>0</th>\n",
       "      <td>1125508849287553029</td>\n",
       "      <td>Mon May 06 21:13:15 +0000 2019</td>\n",
       "      <td>RT @News_Ejazah: جاهزين ..؟\\n\\nالجائزة: ( جهاز iPhone XS 📱 )\\n\\nالمسابقة بتكون بحساب الراعي\\nنحن مجرد داعمين حفظكم الله\\nالسحب عندهم\\n\\nبتشارك ضرور…</td>\n",
       "      <td>ylISBRDD1QjKOrQ</td>\n",
       "      <td>3</td>\n",
       "      <td>25</td>\n",
       "      <td>عع</td>\n",
       "      <td>NaN</td>\n",
       "      <td>NaN</td>\n",
       "      <td>NaN</td>\n",
       "      <td>NaN</td>\n",
       "    </tr>\n",
       "    <tr>\n",
       "      <th>1</th>\n",
       "      <td>1125508850629709824</td>\n",
       "      <td>Mon May 06 21:13:15 +0000 2019</td>\n",
       "      <td>RT @ALABDULLATIF: • أذكر في أي شهر نزل القرآن الكريم\\nوادخل السحب على iPhone XS📱\\nجوائزنا في رمضان (15) iPhoneXS\\n\\nالشروط :\\n➊ متابعة حساباتنا…</td>\n",
       "      <td>ateer7009</td>\n",
       "      <td>17</td>\n",
       "      <td>50</td>\n",
       "      <td>اثير</td>\n",
       "      <td>NaN</td>\n",
       "      <td>NaN</td>\n",
       "      <td>NaN</td>\n",
       "      <td>NaN</td>\n",
       "    </tr>\n",
       "    <tr>\n",
       "      <th>2</th>\n",
       "      <td>1125508852919750664</td>\n",
       "      <td>Mon May 06 21:13:16 +0000 2019</td>\n",
       "      <td>RT @ABU_AKT: 🛑 مسابقة 🛑\\n\\nالجائزة : ( 3 جهاز iPhone XS 📱 )\\n\\nالشروط ضروري تعمل : 🛑\\n\\n1-رتويت\\n\\n2- تابع 👈🏻 @zd_8i\\n\\n3- أكتب تم\\n\\n#مفروشات_العبدالل…</td>\n",
       "      <td>abode813</td>\n",
       "      <td>307</td>\n",
       "      <td>591</td>\n",
       "      <td>سعد</td>\n",
       "      <td>NaN</td>\n",
       "      <td>NaN</td>\n",
       "      <td>NaN</td>\n",
       "      <td>NaN</td>\n",
       "    </tr>\n",
       "    <tr>\n",
       "      <th>3</th>\n",
       "      <td>1125508854865899520</td>\n",
       "      <td>Mon May 06 21:13:16 +0000 2019</td>\n",
       "      <td>RT @ALABDULLATIF: #مفروشات_العبداللطيف_15_ايفون \\nمن صاحب الـ iPhone XS الأول❓\\n🔺 موعد السحب بعد 12 ساعة ⏳\\n\\nيرجى التأكد من تطبيق الشروط👇🏼\\nhtt…</td>\n",
       "      <td>rm77ii</td>\n",
       "      <td>4</td>\n",
       "      <td>15</td>\n",
       "      <td>r.7</td>\n",
       "      <td>NaN</td>\n",
       "      <td>NaN</td>\n",
       "      <td>NaN</td>\n",
       "      <td>NaN</td>\n",
       "    </tr>\n",
       "    <tr>\n",
       "      <th>4</th>\n",
       "      <td>1125508856820506629</td>\n",
       "      <td>Mon May 06 21:13:17 +0000 2019</td>\n",
       "      <td>RT @ALABDULLATIF: • أذكر في أي شهر نزل القرآن الكريم\\nوادخل السحب على iPhone XS📱\\nجوائزنا في رمضان (15) iPhoneXS\\n\\nالشروط :\\n➊ متابعة حساباتنا…</td>\n",
       "      <td>zainab56036313</td>\n",
       "      <td>0</td>\n",
       "      <td>1</td>\n",
       "      <td>zainab abdelrhman</td>\n",
       "      <td>NaN</td>\n",
       "      <td>NaN</td>\n",
       "      <td>NaN</td>\n",
       "      <td>NaN</td>\n",
       "    </tr>\n",
       "  </tbody>\n",
       "</table>\n",
       "</div>"
      ],
      "text/plain": [
       "                    id                      created at  \\\n",
       "0  1125508849287553029  Mon May 06 21:13:15 +0000 2019   \n",
       "1  1125508850629709824  Mon May 06 21:13:15 +0000 2019   \n",
       "2  1125508852919750664  Mon May 06 21:13:16 +0000 2019   \n",
       "3  1125508854865899520  Mon May 06 21:13:16 +0000 2019   \n",
       "4  1125508856820506629  Mon May 06 21:13:17 +0000 2019   \n",
       "\n",
       "                                                                                                                                                       text  \\\n",
       "0  RT @News_Ejazah: جاهزين ..؟\\n\\nالجائزة: ( جهاز iPhone XS 📱 )\\n\\nالمسابقة بتكون بحساب الراعي\\nنحن مجرد داعمين حفظكم الله\\nالسحب عندهم\\n\\nبتشارك ضرور…       \n",
       "1  RT @ALABDULLATIF: • أذكر في أي شهر نزل القرآن الكريم\\nوادخل السحب على iPhone XS📱\\nجوائزنا في رمضان (15) iPhoneXS\\n\\nالشروط :\\n➊ متابعة حساباتنا…           \n",
       "2  RT @ABU_AKT: 🛑 مسابقة 🛑\\n\\nالجائزة : ( 3 جهاز iPhone XS 📱 )\\n\\nالشروط ضروري تعمل : 🛑\\n\\n1-رتويت\\n\\n2- تابع 👈🏻 @zd_8i\\n\\n3- أكتب تم\\n\\n#مفروشات_العبدالل…   \n",
       "3  RT @ALABDULLATIF: #مفروشات_العبداللطيف_15_ايفون \\nمن صاحب الـ iPhone XS الأول❓\\n🔺 موعد السحب بعد 12 ساعة ⏳\\n\\nيرجى التأكد من تطبيق الشروط👇🏼\\nhtt…          \n",
       "4  RT @ALABDULLATIF: • أذكر في أي شهر نزل القرآن الكريم\\nوادخل السحب على iPhone XS📱\\nجوائزنا في رمضان (15) iPhoneXS\\n\\nالشروط :\\n➊ متابعة حساباتنا…           \n",
       "\n",
       "      screen_names  followers_count  friends_count               name  lat  \\\n",
       "0  ylISBRDD1QjKOrQ  3                25             عع                NaN    \n",
       "1  ateer7009        17               50             اثير              NaN    \n",
       "2  abode813         307              591            سعد               NaN    \n",
       "3  rm77ii           4                15             r.7               NaN    \n",
       "4  zainab56036313   0                1              zainab abdelrhman NaN    \n",
       "\n",
       "   lon  place name  place type  \n",
       "0 NaN  NaN         NaN          \n",
       "1 NaN  NaN         NaN          \n",
       "2 NaN  NaN         NaN          \n",
       "3 NaN  NaN         NaN          \n",
       "4 NaN  NaN         NaN          "
      ]
     },
     "execution_count": 224,
     "metadata": {},
     "output_type": "execute_result"
    }
   ],
   "source": [
    "df1 = pd.read_csv(\"tweetsIphone.csv\")\n",
    "df1.head()"
   ]
  },
  {
   "cell_type": "code",
   "execution_count": 225,
   "metadata": {},
   "outputs": [],
   "source": [
    "df1['text'] = df1.text.str.replace('\\d+', '')"
   ]
  },
  {
   "cell_type": "code",
   "execution_count": 226,
   "metadata": {},
   "outputs": [],
   "source": [
    "#Remove urls and the update the column\n",
    "df1['text'] = df1.text.str.replace('http\\S+|www.\\S+', '')"
   ]
  },
  {
   "cell_type": "code",
   "execution_count": 227,
   "metadata": {},
   "outputs": [],
   "source": [
    "df1['text'] = df1.text.str.replace('[^a-zA-Z0-9]+', ' ')"
   ]
  },
  {
   "cell_type": "code",
   "execution_count": 228,
   "metadata": {},
   "outputs": [],
   "source": [
    "df1['text'] = df1.text.str.findall('\\w{3,}').str.join(' ')"
   ]
  },
  {
   "cell_type": "code",
   "execution_count": 230,
   "metadata": {},
   "outputs": [],
   "source": [
    "# Remove stopwords\n",
    "from nltk.corpus import stopwords\n",
    "#additional stopwrods\n",
    "more_stopwords = set(('profile', 'none', 'url','http','film','count','image','com','false','status','twimg','reply','str','name'\n",
    "                          ,'user','twitter','text','jpg','index','true','resize','geo','created','enabled','default','type'\n",
    "                         ,'medium','alabdullatif','iphone','translator','lang','fit','href','contributor','sidebar','normal','quote','hashtags',\n",
    "                         'mention','png','retweeted','entity','symbol','theme','pic','thumb','crop','retweet','size','may','large','iphonexs',\n",
    "                          'mon','link','follower','following','follow','source','time'))\n",
    "stopwords = stopwords.words('english') "
   ]
  },
  {
   "cell_type": "code",
   "execution_count": 231,
   "metadata": {},
   "outputs": [],
   "source": [
    "df1['text'] = df1.text.apply(lambda x: ' '.join([word for word in x.split() if word not in (stopwords)]))"
   ]
  },
  {
   "cell_type": "code",
   "execution_count": 232,
   "metadata": {},
   "outputs": [],
   "source": [
    "#get stemming words or lemmas\n",
    "wordnet_lemmatizer = WordNetLemmatizer()\n",
    "# what if you have additional stopwords to be removed\n",
    "df1['text'] = df1.text.apply(lambda x: ' '.join([wordnet_lemmatizer.lemmatize(word) for word in x.split()]))"
   ]
  },
  {
   "cell_type": "code",
   "execution_count": 233,
   "metadata": {},
   "outputs": [
    {
     "data": {
      "text/html": [
       "<div>\n",
       "<style scoped>\n",
       "    .dataframe tbody tr th:only-of-type {\n",
       "        vertical-align: middle;\n",
       "    }\n",
       "\n",
       "    .dataframe tbody tr th {\n",
       "        vertical-align: top;\n",
       "    }\n",
       "\n",
       "    .dataframe thead th {\n",
       "        text-align: right;\n",
       "    }\n",
       "</style>\n",
       "<table border=\"1\" class=\"dataframe\">\n",
       "  <thead>\n",
       "    <tr style=\"text-align: right;\">\n",
       "      <th></th>\n",
       "      <th>id</th>\n",
       "      <th>created at</th>\n",
       "      <th>text</th>\n",
       "      <th>screen_names</th>\n",
       "      <th>followers_count</th>\n",
       "      <th>friends_count</th>\n",
       "      <th>name</th>\n",
       "      <th>lat</th>\n",
       "      <th>lon</th>\n",
       "      <th>place name</th>\n",
       "      <th>place type</th>\n",
       "    </tr>\n",
       "  </thead>\n",
       "  <tbody>\n",
       "    <tr>\n",
       "      <th>0</th>\n",
       "      <td>1125508849287553029</td>\n",
       "      <td>Mon May 06 21:13:15 +0000 2019</td>\n",
       "      <td>News Ejazah iPhone</td>\n",
       "      <td>ylISBRDD1QjKOrQ</td>\n",
       "      <td>3</td>\n",
       "      <td>25</td>\n",
       "      <td>عع</td>\n",
       "      <td>NaN</td>\n",
       "      <td>NaN</td>\n",
       "      <td>NaN</td>\n",
       "      <td>NaN</td>\n",
       "    </tr>\n",
       "  </tbody>\n",
       "</table>\n",
       "</div>"
      ],
      "text/plain": [
       "                    id                      created at                text  \\\n",
       "0  1125508849287553029  Mon May 06 21:13:15 +0000 2019  News Ejazah iPhone   \n",
       "\n",
       "      screen_names  followers_count  friends_count name  lat  lon  place name  \\\n",
       "0  ylISBRDD1QjKOrQ  3                25             عع  NaN  NaN  NaN           \n",
       "\n",
       "   place type  \n",
       "0 NaN          "
      ]
     },
     "execution_count": 233,
     "metadata": {},
     "output_type": "execute_result"
    }
   ],
   "source": [
    "df1.head(1)"
   ]
  },
  {
   "cell_type": "code",
   "execution_count": 234,
   "metadata": {},
   "outputs": [],
   "source": [
    "best1 = df1.text.astype(str)"
   ]
  },
  {
   "cell_type": "markdown",
   "metadata": {},
   "source": [
    "### Textblob"
   ]
  },
  {
   "cell_type": "code",
   "execution_count": 243,
   "metadata": {},
   "outputs": [
    {
     "name": "stdout",
     "output_type": "stream",
     "text": [
      "0.0 0.0\n",
      "0.0 0.0\n",
      "0.0 0.0\n",
      "0.0 0.0\n",
      "0.0 0.0\n"
     ]
    }
   ],
   "source": [
    "for row in best1[:5]:\n",
    "    print(TextBlob(row).sentiment.polarity, TextBlob(row).sentiment.subjectivity)"
   ]
  },
  {
   "cell_type": "code",
   "execution_count": 244,
   "metadata": {},
   "outputs": [],
   "source": [
    "positive_review1 = []\n",
    "negative_review1 = []\n",
    "neutral_review1 = []\n",
    "\n",
    "for row in best1:\n",
    "    #tweet = row[0]\n",
    "    score1 = TextBlob(row).sentiment.polarity\n",
    "    if score1 > 0:\n",
    "        positive_review1.append(row)\n",
    "    elif score1 == 0:\n",
    "        neutral_review1.append(row)\n",
    "    else:\n",
    "        negative_review1.append(row)"
   ]
  },
  {
   "cell_type": "code",
   "execution_count": 245,
   "metadata": {},
   "outputs": [
    {
     "name": "stdout",
     "output_type": "stream",
     "text": [
      "14\n",
      "9\n",
      "589\n"
     ]
    }
   ],
   "source": [
    "print(len(positive_review1))\n",
    "print(len(negative_review1))\n",
    "print(len(neutral_review1))"
   ]
  },
  {
   "cell_type": "markdown",
   "metadata": {},
   "source": [
    "### Bing Liu"
   ]
  },
  {
   "cell_type": "code",
   "execution_count": 246,
   "metadata": {},
   "outputs": [
    {
     "name": "stdout",
     "output_type": "stream",
     "text": [
      "0 0 0 Neutral\n",
      "0 0 0 Neutral\n",
      "0 0 0 Neutral\n",
      "0 0 0 Neutral\n",
      "0 0 0 Neutral\n"
     ]
    }
   ],
   "source": [
    "# Sentiment analysis using Big Liu\n",
    "documents = [re.sub(\"[^a-zA-Z]+\", \" \", document) for document in best1]\n",
    "# tokenize\n",
    "texts = [[word for word in document.lower().split() ] for document in documents]\n",
    "#Bing-Liu lexicon (positive word list & negative word list)\n",
    "positive_words = open(\"data/positive-words.txt\", \"r\").read().splitlines()\n",
    "negative_words = open(\"data/negative-words.txt\", \"r\").read().splitlines()\n",
    "\n",
    "for sentence in texts[:5]:\n",
    "    positive = 0\n",
    "    negative = 0\n",
    "    for word in sentence:\n",
    "        if word in positive_words:\n",
    "            positive += 1\n",
    "        elif word in negative_words:\n",
    "            negative += 1\n",
    "    print(positive, negative, positive-negative, \"Positive\" if positive-negative > 0 else \"Neutral\" if positive-negative == 0 else \"Negative\")"
   ]
  },
  {
   "cell_type": "code",
   "execution_count": 247,
   "metadata": {},
   "outputs": [],
   "source": [
    "# Reviews in dataframes of the bing liu's analysis\n",
    "\n",
    "positive_review1 = []\n",
    "negative_review1 = []\n",
    "neutral_review1 = []\n",
    "\n",
    "for sentence in texts:\n",
    "    positive = 0\n",
    "    negative = 0\n",
    "    for word in sentence:\n",
    "        if word in positive_words:\n",
    "            positive += 1\n",
    "        elif word in negative_words:\n",
    "            negative += 1\n",
    "    if positive-negative > 0:\n",
    "        positive_review1.append(sentence)\n",
    "    elif positive-negative == 0:\n",
    "        neutral_review1.append(sentence)\n",
    "    else:\n",
    "        negative_review1.append(sentence)"
   ]
  },
  {
   "cell_type": "code",
   "execution_count": 248,
   "metadata": {},
   "outputs": [
    {
     "name": "stdout",
     "output_type": "stream",
     "text": [
      "26\n",
      "2\n",
      "584\n"
     ]
    }
   ],
   "source": [
    "print(len(positive_review1))\n",
    "print(len(negative_review1))\n",
    "print(len(neutral_review1))"
   ]
  },
  {
   "cell_type": "markdown",
   "metadata": {},
   "source": [
    "### Vader Analysis"
   ]
  },
  {
   "cell_type": "code",
   "execution_count": 249,
   "metadata": {},
   "outputs": [],
   "source": [
    "# sentiment analysis\n",
    "from nltk.sentiment.vader import SentimentIntensityAnalyzer"
   ]
  },
  {
   "cell_type": "code",
   "execution_count": 250,
   "metadata": {},
   "outputs": [],
   "source": [
    "analyzer = SentimentIntensityAnalyzer()"
   ]
  },
  {
   "cell_type": "code",
   "execution_count": 251,
   "metadata": {},
   "outputs": [
    {
     "name": "stdout",
     "output_type": "stream",
     "text": [
      "0.0\n",
      "0.0\n",
      "0.0\n",
      "0.0\n",
      "0.0\n"
     ]
    }
   ],
   "source": [
    "for sentence in best1[:5]:\n",
    "    #sentence = row[0]\n",
    "    vs = analyzer.polarity_scores(sentence)\n",
    "    #print(\"{:-<65} {}\".format(sentence, str(vs)))\n",
    "    print((str(vs[\"compound\"])))"
   ]
  },
  {
   "cell_type": "code",
   "execution_count": 252,
   "metadata": {},
   "outputs": [],
   "source": [
    "#vadar analysis for finding postive and neg reviews\n",
    "positive_review1 = []\n",
    "negative_review1 = []\n",
    "neutral_review1 = []\n",
    "\n",
    "for sentence in documents:\n",
    "    #tweet = row[0]\n",
    "    score1 = analyzer.polarity_scores(sentence)\n",
    "    mvs = score1[\"compound\"]\n",
    "    if mvs > 0:\n",
    "        positive_review1.append(sentence)\n",
    "    elif mvs == 0:\n",
    "        neutral_review1.append(sentence)\n",
    "    else:\n",
    "        negative_review1.append(sentence)"
   ]
  },
  {
   "cell_type": "code",
   "execution_count": 253,
   "metadata": {},
   "outputs": [
    {
     "name": "stdout",
     "output_type": "stream",
     "text": [
      "28\n",
      "2\n",
      "582\n"
     ]
    }
   ],
   "source": [
    "print(len(positive_review1))\n",
    "print(len(negative_review1))\n",
    "print(len(neutral_review1))"
   ]
  },
  {
   "cell_type": "markdown",
   "metadata": {},
   "source": [
    "## 6a. Samsung Network Analytics"
   ]
  },
  {
   "cell_type": "code",
   "execution_count": 254,
   "metadata": {},
   "outputs": [],
   "source": [
    "#import packages\n",
    "import csv\n",
    "import pandas as pd\n",
    "import re\n",
    "\n",
    "%matplotlib inline\n",
    "import matplotlib.pyplot as plt\n",
    "\n",
    "pd.set_option('display.max_colwidth', -1)"
   ]
  },
  {
   "cell_type": "markdown",
   "metadata": {},
   "source": [
    "### Mention Network\n",
    "\n",
    "#### Creating a network of the users who are mentioning eachother regarding our phones."
   ]
  },
  {
   "cell_type": "code",
   "execution_count": 44,
   "metadata": {},
   "outputs": [
    {
     "data": {
      "text/html": [
       "<div>\n",
       "<style scoped>\n",
       "    .dataframe tbody tr th:only-of-type {\n",
       "        vertical-align: middle;\n",
       "    }\n",
       "\n",
       "    .dataframe tbody tr th {\n",
       "        vertical-align: top;\n",
       "    }\n",
       "\n",
       "    .dataframe thead th {\n",
       "        text-align: right;\n",
       "    }\n",
       "</style>\n",
       "<table border=\"1\" class=\"dataframe\">\n",
       "  <thead>\n",
       "    <tr style=\"text-align: right;\">\n",
       "      <th></th>\n",
       "      <th>id</th>\n",
       "      <th>created at</th>\n",
       "      <th>text</th>\n",
       "      <th>screen name</th>\n",
       "      <th>followers_count</th>\n",
       "      <th>friends_count</th>\n",
       "      <th>name</th>\n",
       "      <th>lat</th>\n",
       "      <th>lon</th>\n",
       "      <th>place name</th>\n",
       "      <th>place type</th>\n",
       "    </tr>\n",
       "  </thead>\n",
       "  <tbody>\n",
       "    <tr>\n",
       "      <th>0</th>\n",
       "      <td>1125479593694117888</td>\n",
       "      <td>Mon May 06 19:17:00 +0000 2019</td>\n",
       "      <td>@TopesdGama Venían de obsequio con mi S10, has...</td>\n",
       "      <td>Carlos_florez_c</td>\n",
       "      <td>0</td>\n",
       "      <td>103</td>\n",
       "      <td>Carlos</td>\n",
       "      <td>NaN</td>\n",
       "      <td>NaN</td>\n",
       "      <td>NaN</td>\n",
       "      <td>NaN</td>\n",
       "    </tr>\n",
       "    <tr>\n",
       "      <th>1</th>\n",
       "      <td>1125479731783139329</td>\n",
       "      <td>Mon May 06 19:17:33 +0000 2019</td>\n",
       "      <td>RT @TheGrefgYT: 💎🔥 ¡SORTEO 10.000.000 DE SUSCR...</td>\n",
       "      <td>AnitaClapton5</td>\n",
       "      <td>7</td>\n",
       "      <td>444</td>\n",
       "      <td>Anita Clapton</td>\n",
       "      <td>NaN</td>\n",
       "      <td>NaN</td>\n",
       "      <td>NaN</td>\n",
       "      <td>NaN</td>\n",
       "    </tr>\n",
       "    <tr>\n",
       "      <th>2</th>\n",
       "      <td>1125479753929175041</td>\n",
       "      <td>Mon May 06 19:17:38 +0000 2019</td>\n",
       "      <td>RT @litGaws: Rules to get a Free IPhone Xs or ...</td>\n",
       "      <td>ShawnSarazin1</td>\n",
       "      <td>1012</td>\n",
       "      <td>4892</td>\n",
       "      <td>Crypto@Sarazin</td>\n",
       "      <td>NaN</td>\n",
       "      <td>NaN</td>\n",
       "      <td>NaN</td>\n",
       "      <td>NaN</td>\n",
       "    </tr>\n",
       "    <tr>\n",
       "      <th>3</th>\n",
       "      <td>1125479779476561920</td>\n",
       "      <td>Mon May 06 19:17:44 +0000 2019</td>\n",
       "      <td>Galaxy S10+はいつ頃出るんじゃ。\\nmy 7edgeのライフがヤバ気なのだが。</td>\n",
       "      <td>azuuuuusa0426</td>\n",
       "      <td>4</td>\n",
       "      <td>25</td>\n",
       "      <td>あずさ@コナ垢</td>\n",
       "      <td>NaN</td>\n",
       "      <td>NaN</td>\n",
       "      <td>NaN</td>\n",
       "      <td>NaN</td>\n",
       "    </tr>\n",
       "    <tr>\n",
       "      <th>4</th>\n",
       "      <td>1125479790952185856</td>\n",
       "      <td>Mon May 06 19:17:47 +0000 2019</td>\n",
       "      <td>@livewithmusic03 Oi eu queria saber se vc joga...</td>\n",
       "      <td>Otavio20391850</td>\n",
       "      <td>1</td>\n",
       "      <td>3</td>\n",
       "      <td>Otavio</td>\n",
       "      <td>NaN</td>\n",
       "      <td>NaN</td>\n",
       "      <td>NaN</td>\n",
       "      <td>NaN</td>\n",
       "    </tr>\n",
       "  </tbody>\n",
       "</table>\n",
       "</div>"
      ],
      "text/plain": [
       "                    id                      created at  \\\n",
       "0  1125479593694117888  Mon May 06 19:17:00 +0000 2019   \n",
       "1  1125479731783139329  Mon May 06 19:17:33 +0000 2019   \n",
       "2  1125479753929175041  Mon May 06 19:17:38 +0000 2019   \n",
       "3  1125479779476561920  Mon May 06 19:17:44 +0000 2019   \n",
       "4  1125479790952185856  Mon May 06 19:17:47 +0000 2019   \n",
       "\n",
       "                                                text      screen name  \\\n",
       "0  @TopesdGama Venían de obsequio con mi S10, has...  Carlos_florez_c   \n",
       "1  RT @TheGrefgYT: 💎🔥 ¡SORTEO 10.000.000 DE SUSCR...    AnitaClapton5   \n",
       "2  RT @litGaws: Rules to get a Free IPhone Xs or ...    ShawnSarazin1   \n",
       "3       Galaxy S10+はいつ頃出るんじゃ。\\nmy 7edgeのライフがヤバ気なのだが。    azuuuuusa0426   \n",
       "4  @livewithmusic03 Oi eu queria saber se vc joga...   Otavio20391850   \n",
       "\n",
       "   followers_count  friends_count            name  lat  lon place name  \\\n",
       "0                0            103          Carlos  NaN  NaN        NaN   \n",
       "1                7            444   Anita Clapton  NaN  NaN        NaN   \n",
       "2             1012           4892  Crypto@Sarazin  NaN  NaN        NaN   \n",
       "3                4             25         あずさ@コナ垢  NaN  NaN        NaN   \n",
       "4                1              3          Otavio  NaN  NaN        NaN   \n",
       "\n",
       "  place type  \n",
       "0        NaN  \n",
       "1        NaN  \n",
       "2        NaN  \n",
       "3        NaN  \n",
       "4        NaN  "
      ]
     },
     "execution_count": 44,
     "metadata": {},
     "output_type": "execute_result"
    }
   ],
   "source": [
    "df4 = pd.read_csv('data/tweetsSamsung.csv')\n",
    "df4.head()"
   ]
  },
  {
   "cell_type": "code",
   "execution_count": 45,
   "metadata": {},
   "outputs": [
    {
     "data": {
      "text/html": [
       "<div>\n",
       "<style scoped>\n",
       "    .dataframe tbody tr th:only-of-type {\n",
       "        vertical-align: middle;\n",
       "    }\n",
       "\n",
       "    .dataframe tbody tr th {\n",
       "        vertical-align: top;\n",
       "    }\n",
       "\n",
       "    .dataframe thead th {\n",
       "        text-align: right;\n",
       "    }\n",
       "</style>\n",
       "<table border=\"1\" class=\"dataframe\">\n",
       "  <thead>\n",
       "    <tr style=\"text-align: right;\">\n",
       "      <th></th>\n",
       "      <th>text</th>\n",
       "      <th>screen name</th>\n",
       "    </tr>\n",
       "  </thead>\n",
       "  <tbody>\n",
       "    <tr>\n",
       "      <th>0</th>\n",
       "      <td>@TopesdGama Venían de obsequio con mi S10, has...</td>\n",
       "      <td>Carlos_florez_c</td>\n",
       "    </tr>\n",
       "    <tr>\n",
       "      <th>1</th>\n",
       "      <td>RT @TheGrefgYT: 💎🔥 ¡SORTEO 10.000.000 DE SUSCR...</td>\n",
       "      <td>AnitaClapton5</td>\n",
       "    </tr>\n",
       "    <tr>\n",
       "      <th>2</th>\n",
       "      <td>RT @litGaws: Rules to get a Free IPhone Xs or ...</td>\n",
       "      <td>ShawnSarazin1</td>\n",
       "    </tr>\n",
       "    <tr>\n",
       "      <th>3</th>\n",
       "      <td>Galaxy S10+はいつ頃出るんじゃ。\\nmy 7edgeのライフがヤバ気なのだが。</td>\n",
       "      <td>azuuuuusa0426</td>\n",
       "    </tr>\n",
       "    <tr>\n",
       "      <th>4</th>\n",
       "      <td>@livewithmusic03 Oi eu queria saber se vc joga...</td>\n",
       "      <td>Otavio20391850</td>\n",
       "    </tr>\n",
       "  </tbody>\n",
       "</table>\n",
       "</div>"
      ],
      "text/plain": [
       "                                                text      screen name\n",
       "0  @TopesdGama Venían de obsequio con mi S10, has...  Carlos_florez_c\n",
       "1  RT @TheGrefgYT: 💎🔥 ¡SORTEO 10.000.000 DE SUSCR...    AnitaClapton5\n",
       "2  RT @litGaws: Rules to get a Free IPhone Xs or ...    ShawnSarazin1\n",
       "3       Galaxy S10+はいつ頃出るんじゃ。\\nmy 7edgeのライフがヤバ気なのだが。    azuuuuusa0426\n",
       "4  @livewithmusic03 Oi eu queria saber se vc joga...   Otavio20391850"
      ]
     },
     "execution_count": 45,
     "metadata": {},
     "output_type": "execute_result"
    }
   ],
   "source": [
    "#Droping columns that are not text and screen name to create mentions network\n",
    "df4 = df4.drop(df4.columns[[0, 1, 4, 5, 6, 7, 8, 9, 10]], axis=1)\n",
    "df4.head()"
   ]
  },
  {
   "cell_type": "code",
   "execution_count": 47,
   "metadata": {},
   "outputs": [
    {
     "data": {
      "text/plain": [
       "594"
      ]
     },
     "execution_count": 47,
     "metadata": {},
     "output_type": "execute_result"
    }
   ],
   "source": [
    "tweets = df4.values\n",
    "len(tweets)"
   ]
  },
  {
   "cell_type": "code",
   "execution_count": 48,
   "metadata": {},
   "outputs": [
    {
     "name": "stdout",
     "output_type": "stream",
     "text": [
      "['@TopesdGama Venían de obsequio con mi S10, hasta el momento geniales en todos los aspectos !!'\n",
      " 'Carlos_florez_c']\n",
      "['RT @TheGrefgYT: 💎🔥 ¡SORTEO 10.000.000 DE SUSCRIPTORES! 🔥💎\\n\\nx10 PS4 PRO\\nx10 Galaxy S10\\n\\n20 GANADORES ;)\\n\\nVídeo ▶ https://t.co/VbWEzV9mwQ\\nLin…'\n",
      " 'AnitaClapton5']\n"
     ]
    }
   ],
   "source": [
    "for tweet in tweets[:2]:\n",
    "    print(tweet)"
   ]
  },
  {
   "cell_type": "code",
   "execution_count": 49,
   "metadata": {},
   "outputs": [
    {
     "name": "stdout",
     "output_type": "stream",
     "text": [
      "@TopesdGama Venían de obsequio con mi S10, hasta el momento geniales en todos los aspectos !! Carlos_florez_c\n",
      "RT @TheGrefgYT: 💎🔥 ¡SORTEO 10.000.000 DE SUSCRIPTORES! 🔥💎\n",
      "\n",
      "x10 PS4 PRO\n",
      "x10 Galaxy S10\n",
      "\n",
      "20 GANADORES ;)\n",
      "\n",
      "Vídeo ▶ https://t.co/VbWEzV9mwQ\n",
      "Lin… AnitaClapton5\n",
      "RT @litGaws: Rules to get a Free IPhone Xs or Samsung S10:\n",
      "\n",
      "-Have the money on Paypal ready\n",
      "(America 20$ / Europe 15$ / Afrika and Asia 20$… ShawnSarazin1\n",
      "Galaxy S10+はいつ頃出るんじゃ。\n",
      "my 7edgeのライフがヤバ気なのだが。 azuuuuusa0426\n",
      "@livewithmusic03 Oi eu queria saber se vc joga fortinait se não vc poderia medar uma skin que exclusiva do s10 Otavio20391850\n"
     ]
    }
   ],
   "source": [
    "for tweet in tweets[:5]:\n",
    "    print(tweet[0], tweet[1])"
   ]
  },
  {
   "cell_type": "code",
   "execution_count": 50,
   "metadata": {},
   "outputs": [
    {
     "data": {
      "text/plain": [
       "[['@TopesdGama Venían de obsequio con mi S10, hasta el momento geniales en todos los aspectos !!',\n",
       "  'Carlos_florez_c'],\n",
       " ['RT @TheGrefgYT: 💎🔥 ¡SORTEO 10.000.000 DE SUSCRIPTORES! 🔥💎\\n\\nx10 PS4 PRO\\nx10 Galaxy S10\\n\\n20 GANADORES ;)\\n\\nVídeo ▶ https://t.co/VbWEzV9mwQ\\nLin…',\n",
       "  'AnitaClapton5'],\n",
       " ['RT @litGaws: Rules to get a Free IPhone Xs or Samsung S10:\\n\\n-Have the money on Paypal ready\\n(America 20$ / Europe 15$ / Afrika and Asia 20$…',\n",
       "  'ShawnSarazin1'],\n",
       " ['Galaxy S10+はいつ頃出るんじゃ。\\nmy 7edgeのライフがヤバ気なのだが。', 'azuuuuusa0426'],\n",
       " ['@livewithmusic03 Oi eu queria saber se vc joga fortinait se não vc poderia medar uma skin que exclusiva do s10',\n",
       "  'Otavio20391850']]"
      ]
     },
     "execution_count": 50,
     "metadata": {},
     "output_type": "execute_result"
    }
   ],
   "source": [
    "mention = []\n",
    "\n",
    "for tweet in tweets:\n",
    "    mention.append([tweet[0], tweet[1]])\n",
    "    \n",
    "mention[:5]"
   ]
  },
  {
   "cell_type": "code",
   "execution_count": 51,
   "metadata": {},
   "outputs": [
    {
     "name": "stdout",
     "output_type": "stream",
     "text": [
      "@TopesdGama Venían de obsequio con mi S10, hasta el momento geniales en todos los aspectos !! Carlos_florez_c\n",
      "RT @TheGrefgYT: 💎🔥 ¡SORTEO 10.000.000 DE SUSCRIPTORES! 🔥💎\n",
      "\n",
      "x10 PS4 PRO\n",
      "x10 Galaxy S10\n",
      "\n",
      "20 GANADORES ;)\n",
      "\n",
      "Vídeo ▶ https://t.co/VbWEzV9mwQ\n",
      "Lin… AnitaClapton5\n",
      "RT @litGaws: Rules to get a Free IPhone Xs or Samsung S10:\n",
      "\n",
      "-Have the money on Paypal ready\n",
      "(America 20$ / Europe 15$ / Afrika and Asia 20$… ShawnSarazin1\n",
      "Galaxy S10+はいつ頃出るんじゃ。\n",
      "my 7edgeのライフがヤバ気なのだが。 azuuuuusa0426\n",
      "@livewithmusic03 Oi eu queria saber se vc joga fortinait se não vc poderia medar uma skin que exclusiva do s10 Otavio20391850\n"
     ]
    }
   ],
   "source": [
    "# computationally intensive ... very slow if you have a lot of data\n",
    "for i in mention[:5]:\n",
    "    print(i[0], i[1])"
   ]
  },
  {
   "cell_type": "code",
   "execution_count": 52,
   "metadata": {},
   "outputs": [
    {
     "name": "stdout",
     "output_type": "stream",
     "text": [
      "Carlos_florez_c ['TopesdGama']\n",
      "AnitaClapton5 ['TheGrefgYT']\n",
      "ShawnSarazin1 ['litGaws']\n",
      "azuuuuusa0426 []\n",
      "Otavio20391850 ['livewithmusic03']\n"
     ]
    }
   ],
   "source": [
    "for tweet in mention[:5]:\n",
    "    print(tweet[1], re.findall(r\"(?<=@)\\w+\", tweet[0]))"
   ]
  },
  {
   "cell_type": "code",
   "execution_count": 53,
   "metadata": {},
   "outputs": [
    {
     "name": "stdout",
     "output_type": "stream",
     "text": [
      "Carlos_florez_c TopesdGama\n",
      "AnitaClapton5 TheGrefgYT\n",
      "ShawnSarazin1 litGaws\n",
      "Otavio20391850 livewithmusic03\n"
     ]
    }
   ],
   "source": [
    "# Putting information with user and mention side by side for exporting to csv\n",
    "for tweet in mention[:5]:\n",
    "    a = re.findall(r\"(?<=@)\\w+\", tweet[0])\n",
    "    for i in a:\n",
    "        print(tweet[1], i)"
   ]
  },
  {
   "cell_type": "code",
   "execution_count": 54,
   "metadata": {},
   "outputs": [],
   "source": [
    "#putting everything together\n",
    "\n",
    "import csv\n",
    "    \n",
    "openfile = open(\"data/FinalNWA.csv\", \"w\", newline='')\n",
    "w = csv.writer(openfile)\n",
    "\n",
    "for tweet in mention:\n",
    "    a = re.findall(r\"(?<=@)\\w+\", tweet[0])\n",
    "    for i in a:\n",
    "        w.writerow([tweet[1], i])\n",
    "        \n",
    "openfile.close()"
   ]
  },
  {
   "cell_type": "markdown",
   "metadata": {},
   "source": [
    "#### Using Mention Network in Gephi to create a network visual and run statistics"
   ]
  },
  {
   "cell_type": "markdown",
   "metadata": {},
   "source": [
    "#### Gephi Visual"
   ]
  },
  {
   "cell_type": "markdown",
   "metadata": {},
   "source": [
    "<img src= \"GEPHI Visual Samsung.png\">"
   ]
  },
  {
   "cell_type": "markdown",
   "metadata": {},
   "source": [
    "#### Gephi Table Informaion"
   ]
  },
  {
   "cell_type": "markdown",
   "metadata": {},
   "source": [
    "<img src= \"GEPHI Table Samsung.png\">"
   ]
  },
  {
   "cell_type": "markdown",
   "metadata": {},
   "source": [
    "### Hashtag Network for Samsung\n",
    "\n",
    "#### Creating a network with hashtags that are used in the same tweet."
   ]
  },
  {
   "cell_type": "code",
   "execution_count": 55,
   "metadata": {},
   "outputs": [
    {
     "name": "stdout",
     "output_type": "stream",
     "text": [
      "@TopesdGama Venían de obsequio con mi S10, hasta el momento geniales en todos los aspectos !!\n",
      "RT @TheGrefgYT: 💎🔥 ¡SORTEO 10.000.000 DE SUSCRIPTORES! 🔥💎\n",
      "\n",
      "x10 PS4 PRO\n",
      "x10 Galaxy S10\n",
      "\n",
      "20 GANADORES ;)\n",
      "\n",
      "Vídeo ▶ https://t.co/VbWEzV9mwQ\n",
      "Lin…\n",
      "RT @litGaws: Rules to get a Free IPhone Xs or Samsung S10:\n",
      "\n",
      "-Have the money on Paypal ready\n",
      "(America 20$ / Europe 15$ / Afrika and Asia 20$…\n",
      "Galaxy S10+はいつ頃出るんじゃ。\n",
      "my 7edgeのライフがヤバ気なのだが。\n",
      "@livewithmusic03 Oi eu queria saber se vc joga fortinait se não vc poderia medar uma skin que exclusiva do s10\n"
     ]
    }
   ],
   "source": [
    "for tweet in tweets[:5]:\n",
    "    print(tweet[0])"
   ]
  },
  {
   "cell_type": "code",
   "execution_count": 56,
   "metadata": {},
   "outputs": [
    {
     "name": "stdout",
     "output_type": "stream",
     "text": [
      "[]\n",
      "[]\n",
      "[]\n",
      "[]\n",
      "[]\n"
     ]
    }
   ],
   "source": [
    "for tweet in tweets[:5]:\n",
    "    data = re.sub(\"[^a-zA-Z0-9#]+\", \" \", tweet[0])\n",
    "    hashtag = re.findall(r\"(?<=#)\\w+\", str(data).lower())\n",
    "    print(hashtag)"
   ]
  },
  {
   "cell_type": "code",
   "execution_count": 57,
   "metadata": {},
   "outputs": [],
   "source": [
    "hashtag_network = []\n",
    "for tweet in tweets:\n",
    "    data = re.sub(\"[^a-zA-Z0-9#]+\", \" \", tweet[0])\n",
    "    hashtag = re.findall(r\"(?<=#)\\w+\", str(data).lower())\n",
    "    hashtag_network.append(hashtag)"
   ]
  },
  {
   "cell_type": "code",
   "execution_count": 58,
   "metadata": {},
   "outputs": [
    {
     "data": {
      "text/plain": [
       "[[],\n",
       " [],\n",
       " [],\n",
       " [],\n",
       " [],\n",
       " [],\n",
       " [],\n",
       " [],\n",
       " [],\n",
       " [],\n",
       " [],\n",
       " [],\n",
       " [],\n",
       " [],\n",
       " [],\n",
       " [],\n",
       " [],\n",
       " [],\n",
       " ['screenprotector', 'screen', 'cracked', 'galaxy', 's10', 'iphone', 'apple'],\n",
       " []]"
      ]
     },
     "execution_count": 58,
     "metadata": {},
     "output_type": "execute_result"
    }
   ],
   "source": [
    "hashtag_network[:20]"
   ]
  },
  {
   "cell_type": "code",
   "execution_count": 59,
   "metadata": {},
   "outputs": [
    {
     "data": {
      "text/plain": [
       "[('screenprotector', 'screen'),\n",
       " ('screenprotector', 'cracked'),\n",
       " ('screenprotector', 'galaxy'),\n",
       " ('screenprotector', 's10'),\n",
       " ('screenprotector', 'iphone'),\n",
       " ('screenprotector', 'apple'),\n",
       " ('screen', 'cracked'),\n",
       " ('screen', 'galaxy'),\n",
       " ('screen', 's10'),\n",
       " ('screen', 'iphone')]"
      ]
     },
     "execution_count": 59,
     "metadata": {},
     "output_type": "execute_result"
    }
   ],
   "source": [
    "# Creating a relationship between hashtags used together in same tweet.\n",
    "from itertools import combinations\n",
    "cohashtags = [x for d in hashtag_network for x in combinations(d, 2)]\n",
    "cohashtags[:10]"
   ]
  },
  {
   "cell_type": "code",
   "execution_count": 200,
   "metadata": {},
   "outputs": [],
   "source": [
    "#for cohashtag analysis\n",
    "outfile = open(\"data/Finalcohashtag_network.csv\", \"w\", newline='')\n",
    "w = csv.writer(outfile)\n",
    "for i in cohashtags:\n",
    "    w.writerow(i)    \n",
    "outfile.close()"
   ]
  },
  {
   "cell_type": "markdown",
   "metadata": {},
   "source": [
    "#### Using the csv in Gephi to create a network analysis and table statistics"
   ]
  },
  {
   "cell_type": "markdown",
   "metadata": {},
   "source": [
    "#### Gephi Visual"
   ]
  },
  {
   "cell_type": "markdown",
   "metadata": {},
   "source": [
    "<img src= \"GEPHI Visual Samsung Hashtags.png\">"
   ]
  },
  {
   "cell_type": "markdown",
   "metadata": {},
   "source": [
    "#### Gephi Table Information"
   ]
  },
  {
   "cell_type": "markdown",
   "metadata": {},
   "source": [
    "<img src= \"GEPHI Table Samsung Hashtags.png\">"
   ]
  },
  {
   "cell_type": "markdown",
   "metadata": {},
   "source": [
    "## 6b. Iphone Network Analytics"
   ]
  },
  {
   "cell_type": "code",
   "execution_count": 259,
   "metadata": {},
   "outputs": [
    {
     "data": {
      "text/html": [
       "<div>\n",
       "<style scoped>\n",
       "    .dataframe tbody tr th:only-of-type {\n",
       "        vertical-align: middle;\n",
       "    }\n",
       "\n",
       "    .dataframe tbody tr th {\n",
       "        vertical-align: top;\n",
       "    }\n",
       "\n",
       "    .dataframe thead th {\n",
       "        text-align: right;\n",
       "    }\n",
       "</style>\n",
       "<table border=\"1\" class=\"dataframe\">\n",
       "  <thead>\n",
       "    <tr style=\"text-align: right;\">\n",
       "      <th></th>\n",
       "      <th>id</th>\n",
       "      <th>created at</th>\n",
       "      <th>text</th>\n",
       "      <th>screen_names</th>\n",
       "      <th>followers_count</th>\n",
       "      <th>friends_count</th>\n",
       "      <th>name</th>\n",
       "      <th>lat</th>\n",
       "      <th>lon</th>\n",
       "      <th>place name</th>\n",
       "      <th>place type</th>\n",
       "    </tr>\n",
       "  </thead>\n",
       "  <tbody>\n",
       "    <tr>\n",
       "      <th>0</th>\n",
       "      <td>1125508849287553029</td>\n",
       "      <td>Mon May 06 21:13:15 +0000 2019</td>\n",
       "      <td>RT @News_Ejazah: جاهزين ..؟\\n\\nالجائزة: ( جهاز iPhone XS 📱 )\\n\\nالمسابقة بتكون بحساب الراعي\\nنحن مجرد داعمين حفظكم الله\\nالسحب عندهم\\n\\nبتشارك ضرور…</td>\n",
       "      <td>ylISBRDD1QjKOrQ</td>\n",
       "      <td>3</td>\n",
       "      <td>25</td>\n",
       "      <td>عع</td>\n",
       "      <td>NaN</td>\n",
       "      <td>NaN</td>\n",
       "      <td>NaN</td>\n",
       "      <td>NaN</td>\n",
       "    </tr>\n",
       "    <tr>\n",
       "      <th>1</th>\n",
       "      <td>1125508850629709824</td>\n",
       "      <td>Mon May 06 21:13:15 +0000 2019</td>\n",
       "      <td>RT @ALABDULLATIF: • أذكر في أي شهر نزل القرآن الكريم\\nوادخل السحب على iPhone XS📱\\nجوائزنا في رمضان (15) iPhoneXS\\n\\nالشروط :\\n➊ متابعة حساباتنا…</td>\n",
       "      <td>ateer7009</td>\n",
       "      <td>17</td>\n",
       "      <td>50</td>\n",
       "      <td>اثير</td>\n",
       "      <td>NaN</td>\n",
       "      <td>NaN</td>\n",
       "      <td>NaN</td>\n",
       "      <td>NaN</td>\n",
       "    </tr>\n",
       "    <tr>\n",
       "      <th>2</th>\n",
       "      <td>1125508852919750664</td>\n",
       "      <td>Mon May 06 21:13:16 +0000 2019</td>\n",
       "      <td>RT @ABU_AKT: 🛑 مسابقة 🛑\\n\\nالجائزة : ( 3 جهاز iPhone XS 📱 )\\n\\nالشروط ضروري تعمل : 🛑\\n\\n1-رتويت\\n\\n2- تابع 👈🏻 @zd_8i\\n\\n3- أكتب تم\\n\\n#مفروشات_العبدالل…</td>\n",
       "      <td>abode813</td>\n",
       "      <td>307</td>\n",
       "      <td>591</td>\n",
       "      <td>سعد</td>\n",
       "      <td>NaN</td>\n",
       "      <td>NaN</td>\n",
       "      <td>NaN</td>\n",
       "      <td>NaN</td>\n",
       "    </tr>\n",
       "    <tr>\n",
       "      <th>3</th>\n",
       "      <td>1125508854865899520</td>\n",
       "      <td>Mon May 06 21:13:16 +0000 2019</td>\n",
       "      <td>RT @ALABDULLATIF: #مفروشات_العبداللطيف_15_ايفون \\nمن صاحب الـ iPhone XS الأول❓\\n🔺 موعد السحب بعد 12 ساعة ⏳\\n\\nيرجى التأكد من تطبيق الشروط👇🏼\\nhtt…</td>\n",
       "      <td>rm77ii</td>\n",
       "      <td>4</td>\n",
       "      <td>15</td>\n",
       "      <td>r.7</td>\n",
       "      <td>NaN</td>\n",
       "      <td>NaN</td>\n",
       "      <td>NaN</td>\n",
       "      <td>NaN</td>\n",
       "    </tr>\n",
       "    <tr>\n",
       "      <th>4</th>\n",
       "      <td>1125508856820506629</td>\n",
       "      <td>Mon May 06 21:13:17 +0000 2019</td>\n",
       "      <td>RT @ALABDULLATIF: • أذكر في أي شهر نزل القرآن الكريم\\nوادخل السحب على iPhone XS📱\\nجوائزنا في رمضان (15) iPhoneXS\\n\\nالشروط :\\n➊ متابعة حساباتنا…</td>\n",
       "      <td>zainab56036313</td>\n",
       "      <td>0</td>\n",
       "      <td>1</td>\n",
       "      <td>zainab abdelrhman</td>\n",
       "      <td>NaN</td>\n",
       "      <td>NaN</td>\n",
       "      <td>NaN</td>\n",
       "      <td>NaN</td>\n",
       "    </tr>\n",
       "  </tbody>\n",
       "</table>\n",
       "</div>"
      ],
      "text/plain": [
       "                    id                      created at  \\\n",
       "0  1125508849287553029  Mon May 06 21:13:15 +0000 2019   \n",
       "1  1125508850629709824  Mon May 06 21:13:15 +0000 2019   \n",
       "2  1125508852919750664  Mon May 06 21:13:16 +0000 2019   \n",
       "3  1125508854865899520  Mon May 06 21:13:16 +0000 2019   \n",
       "4  1125508856820506629  Mon May 06 21:13:17 +0000 2019   \n",
       "\n",
       "                                                                                                                                                       text  \\\n",
       "0  RT @News_Ejazah: جاهزين ..؟\\n\\nالجائزة: ( جهاز iPhone XS 📱 )\\n\\nالمسابقة بتكون بحساب الراعي\\nنحن مجرد داعمين حفظكم الله\\nالسحب عندهم\\n\\nبتشارك ضرور…       \n",
       "1  RT @ALABDULLATIF: • أذكر في أي شهر نزل القرآن الكريم\\nوادخل السحب على iPhone XS📱\\nجوائزنا في رمضان (15) iPhoneXS\\n\\nالشروط :\\n➊ متابعة حساباتنا…           \n",
       "2  RT @ABU_AKT: 🛑 مسابقة 🛑\\n\\nالجائزة : ( 3 جهاز iPhone XS 📱 )\\n\\nالشروط ضروري تعمل : 🛑\\n\\n1-رتويت\\n\\n2- تابع 👈🏻 @zd_8i\\n\\n3- أكتب تم\\n\\n#مفروشات_العبدالل…   \n",
       "3  RT @ALABDULLATIF: #مفروشات_العبداللطيف_15_ايفون \\nمن صاحب الـ iPhone XS الأول❓\\n🔺 موعد السحب بعد 12 ساعة ⏳\\n\\nيرجى التأكد من تطبيق الشروط👇🏼\\nhtt…          \n",
       "4  RT @ALABDULLATIF: • أذكر في أي شهر نزل القرآن الكريم\\nوادخل السحب على iPhone XS📱\\nجوائزنا في رمضان (15) iPhoneXS\\n\\nالشروط :\\n➊ متابعة حساباتنا…           \n",
       "\n",
       "      screen_names  followers_count  friends_count               name  lat  \\\n",
       "0  ylISBRDD1QjKOrQ  3                25             عع                NaN    \n",
       "1  ateer7009        17               50             اثير              NaN    \n",
       "2  abode813         307              591            سعد               NaN    \n",
       "3  rm77ii           4                15             r.7               NaN    \n",
       "4  zainab56036313   0                1              zainab abdelrhman NaN    \n",
       "\n",
       "   lon  place name  place type  \n",
       "0 NaN  NaN         NaN          \n",
       "1 NaN  NaN         NaN          \n",
       "2 NaN  NaN         NaN          \n",
       "3 NaN  NaN         NaN          \n",
       "4 NaN  NaN         NaN          "
      ]
     },
     "execution_count": 259,
     "metadata": {},
     "output_type": "execute_result"
    }
   ],
   "source": [
    "df5 = pd.read_csv('tweetsIphone.csv')\n",
    "df5.head()"
   ]
  },
  {
   "cell_type": "code",
   "execution_count": 260,
   "metadata": {},
   "outputs": [
    {
     "data": {
      "text/html": [
       "<div>\n",
       "<style scoped>\n",
       "    .dataframe tbody tr th:only-of-type {\n",
       "        vertical-align: middle;\n",
       "    }\n",
       "\n",
       "    .dataframe tbody tr th {\n",
       "        vertical-align: top;\n",
       "    }\n",
       "\n",
       "    .dataframe thead th {\n",
       "        text-align: right;\n",
       "    }\n",
       "</style>\n",
       "<table border=\"1\" class=\"dataframe\">\n",
       "  <thead>\n",
       "    <tr style=\"text-align: right;\">\n",
       "      <th></th>\n",
       "      <th>text</th>\n",
       "      <th>screen_names</th>\n",
       "    </tr>\n",
       "  </thead>\n",
       "  <tbody>\n",
       "    <tr>\n",
       "      <th>0</th>\n",
       "      <td>RT @News_Ejazah: جاهزين ..؟\\n\\nالجائزة: ( جهاز iPhone XS 📱 )\\n\\nالمسابقة بتكون بحساب الراعي\\nنحن مجرد داعمين حفظكم الله\\nالسحب عندهم\\n\\nبتشارك ضرور…</td>\n",
       "      <td>ylISBRDD1QjKOrQ</td>\n",
       "    </tr>\n",
       "    <tr>\n",
       "      <th>1</th>\n",
       "      <td>RT @ALABDULLATIF: • أذكر في أي شهر نزل القرآن الكريم\\nوادخل السحب على iPhone XS📱\\nجوائزنا في رمضان (15) iPhoneXS\\n\\nالشروط :\\n➊ متابعة حساباتنا…</td>\n",
       "      <td>ateer7009</td>\n",
       "    </tr>\n",
       "    <tr>\n",
       "      <th>2</th>\n",
       "      <td>RT @ABU_AKT: 🛑 مسابقة 🛑\\n\\nالجائزة : ( 3 جهاز iPhone XS 📱 )\\n\\nالشروط ضروري تعمل : 🛑\\n\\n1-رتويت\\n\\n2- تابع 👈🏻 @zd_8i\\n\\n3- أكتب تم\\n\\n#مفروشات_العبدالل…</td>\n",
       "      <td>abode813</td>\n",
       "    </tr>\n",
       "    <tr>\n",
       "      <th>3</th>\n",
       "      <td>RT @ALABDULLATIF: #مفروشات_العبداللطيف_15_ايفون \\nمن صاحب الـ iPhone XS الأول❓\\n🔺 موعد السحب بعد 12 ساعة ⏳\\n\\nيرجى التأكد من تطبيق الشروط👇🏼\\nhtt…</td>\n",
       "      <td>rm77ii</td>\n",
       "    </tr>\n",
       "    <tr>\n",
       "      <th>4</th>\n",
       "      <td>RT @ALABDULLATIF: • أذكر في أي شهر نزل القرآن الكريم\\nوادخل السحب على iPhone XS📱\\nجوائزنا في رمضان (15) iPhoneXS\\n\\nالشروط :\\n➊ متابعة حساباتنا…</td>\n",
       "      <td>zainab56036313</td>\n",
       "    </tr>\n",
       "  </tbody>\n",
       "</table>\n",
       "</div>"
      ],
      "text/plain": [
       "                                                                                                                                                       text  \\\n",
       "0  RT @News_Ejazah: جاهزين ..؟\\n\\nالجائزة: ( جهاز iPhone XS 📱 )\\n\\nالمسابقة بتكون بحساب الراعي\\nنحن مجرد داعمين حفظكم الله\\nالسحب عندهم\\n\\nبتشارك ضرور…       \n",
       "1  RT @ALABDULLATIF: • أذكر في أي شهر نزل القرآن الكريم\\nوادخل السحب على iPhone XS📱\\nجوائزنا في رمضان (15) iPhoneXS\\n\\nالشروط :\\n➊ متابعة حساباتنا…           \n",
       "2  RT @ABU_AKT: 🛑 مسابقة 🛑\\n\\nالجائزة : ( 3 جهاز iPhone XS 📱 )\\n\\nالشروط ضروري تعمل : 🛑\\n\\n1-رتويت\\n\\n2- تابع 👈🏻 @zd_8i\\n\\n3- أكتب تم\\n\\n#مفروشات_العبدالل…   \n",
       "3  RT @ALABDULLATIF: #مفروشات_العبداللطيف_15_ايفون \\nمن صاحب الـ iPhone XS الأول❓\\n🔺 موعد السحب بعد 12 ساعة ⏳\\n\\nيرجى التأكد من تطبيق الشروط👇🏼\\nhtt…          \n",
       "4  RT @ALABDULLATIF: • أذكر في أي شهر نزل القرآن الكريم\\nوادخل السحب على iPhone XS📱\\nجوائزنا في رمضان (15) iPhoneXS\\n\\nالشروط :\\n➊ متابعة حساباتنا…           \n",
       "\n",
       "      screen_names  \n",
       "0  ylISBRDD1QjKOrQ  \n",
       "1  ateer7009        \n",
       "2  abode813         \n",
       "3  rm77ii           \n",
       "4  zainab56036313   "
      ]
     },
     "execution_count": 260,
     "metadata": {},
     "output_type": "execute_result"
    }
   ],
   "source": [
    "df5 = df5.drop(df5.columns[[0, 1, 4, 5, 6, 7, 8, 9, 10]], axis=1)\n",
    "df5.head()"
   ]
  },
  {
   "cell_type": "code",
   "execution_count": 261,
   "metadata": {},
   "outputs": [
    {
     "data": {
      "text/plain": [
       "612"
      ]
     },
     "execution_count": 261,
     "metadata": {},
     "output_type": "execute_result"
    }
   ],
   "source": [
    "tweets = df5.values\n",
    "len(tweets)"
   ]
  },
  {
   "cell_type": "code",
   "execution_count": 262,
   "metadata": {},
   "outputs": [
    {
     "name": "stdout",
     "output_type": "stream",
     "text": [
      "['RT @News_Ejazah: جاهزين ..؟\\n\\nالجائزة: ( جهاز iPhone XS 📱 )\\n\\nالمسابقة بتكون بحساب الراعي\\nنحن مجرد داعمين حفظكم الله\\nالسحب عندهم\\n\\nبتشارك ضرور…'\n",
      " 'ylISBRDD1QjKOrQ']\n",
      "['RT @ALABDULLATIF: • أذكر في أي شهر نزل القرآن الكريم\\nوادخل السحب على iPhone XS📱\\nجوائزنا في رمضان (15) iPhoneXS\\n\\nالشروط :\\n➊ متابعة حساباتنا…'\n",
      " 'ateer7009']\n"
     ]
    }
   ],
   "source": [
    "for tweet in tweets[:2]:\n",
    "    print(tweet)"
   ]
  },
  {
   "cell_type": "code",
   "execution_count": 263,
   "metadata": {},
   "outputs": [
    {
     "name": "stdout",
     "output_type": "stream",
     "text": [
      "RT @News_Ejazah: جاهزين ..؟\n",
      "\n",
      "الجائزة: ( جهاز iPhone XS 📱 )\n",
      "\n",
      "المسابقة بتكون بحساب الراعي\n",
      "نحن مجرد داعمين حفظكم الله\n",
      "السحب عندهم\n",
      "\n",
      "بتشارك ضرور… ylISBRDD1QjKOrQ\n",
      "RT @ALABDULLATIF: • أذكر في أي شهر نزل القرآن الكريم\n",
      "وادخل السحب على iPhone XS📱\n",
      "جوائزنا في رمضان (15) iPhoneXS\n",
      "\n",
      "الشروط :\n",
      "➊ متابعة حساباتنا… ateer7009\n",
      "RT @ABU_AKT: 🛑 مسابقة 🛑\n",
      "\n",
      "الجائزة : ( 3 جهاز iPhone XS 📱 )\n",
      "\n",
      "الشروط ضروري تعمل : 🛑\n",
      "\n",
      "1-رتويت\n",
      "\n",
      "2- تابع 👈🏻 @zd_8i\n",
      "\n",
      "3- أكتب تم\n",
      "\n",
      "#مفروشات_العبدالل… abode813\n",
      "RT @ALABDULLATIF: #مفروشات_العبداللطيف_15_ايفون \n",
      "من صاحب الـ iPhone XS الأول❓\n",
      "🔺 موعد السحب بعد 12 ساعة ⏳\n",
      "\n",
      "يرجى التأكد من تطبيق الشروط👇🏼\n",
      "htt… rm77ii\n",
      "RT @ALABDULLATIF: • أذكر في أي شهر نزل القرآن الكريم\n",
      "وادخل السحب على iPhone XS📱\n",
      "جوائزنا في رمضان (15) iPhoneXS\n",
      "\n",
      "الشروط :\n",
      "➊ متابعة حساباتنا… zainab56036313\n"
     ]
    }
   ],
   "source": [
    "for tweet in tweets[:5]:\n",
    "    print(tweet[0], tweet[1])"
   ]
  },
  {
   "cell_type": "code",
   "execution_count": 264,
   "metadata": {},
   "outputs": [
    {
     "data": {
      "text/plain": [
       "[['RT @News_Ejazah: جاهزين ..؟\\n\\nالجائزة: ( جهاز iPhone XS 📱 )\\n\\nالمسابقة بتكون بحساب الراعي\\nنحن مجرد داعمين حفظكم الله\\nالسحب عندهم\\n\\nبتشارك ضرور…',\n",
       "  'ylISBRDD1QjKOrQ'],\n",
       " ['RT @ALABDULLATIF: • أذكر في أي شهر نزل القرآن الكريم\\nوادخل السحب على iPhone XS📱\\nجوائزنا في رمضان (15) iPhoneXS\\n\\nالشروط :\\n➊ متابعة حساباتنا…',\n",
       "  'ateer7009'],\n",
       " ['RT @ABU_AKT: 🛑 مسابقة 🛑\\n\\nالجائزة : ( 3 جهاز iPhone XS 📱 )\\n\\nالشروط ضروري تعمل : 🛑\\n\\n1-رتويت\\n\\n2- تابع 👈🏻 @zd_8i\\n\\n3- أكتب تم\\n\\n#مفروشات_العبدالل…',\n",
       "  'abode813'],\n",
       " ['RT @ALABDULLATIF: #مفروشات_العبداللطيف_15_ايفون \\nمن صاحب الـ iPhone XS الأول❓\\n🔺 موعد السحب بعد 12 ساعة ⏳\\n\\nيرجى التأكد من تطبيق الشروط👇🏼\\nhtt…',\n",
       "  'rm77ii'],\n",
       " ['RT @ALABDULLATIF: • أذكر في أي شهر نزل القرآن الكريم\\nوادخل السحب على iPhone XS📱\\nجوائزنا في رمضان (15) iPhoneXS\\n\\nالشروط :\\n➊ متابعة حساباتنا…',\n",
       "  'zainab56036313']]"
      ]
     },
     "execution_count": 264,
     "metadata": {},
     "output_type": "execute_result"
    }
   ],
   "source": [
    "mention = []\n",
    "\n",
    "for tweet in tweets:\n",
    "    mention.append([tweet[0], tweet[1]])\n",
    "    \n",
    "mention[:5]"
   ]
  },
  {
   "cell_type": "code",
   "execution_count": 265,
   "metadata": {},
   "outputs": [
    {
     "name": "stdout",
     "output_type": "stream",
     "text": [
      "RT @News_Ejazah: جاهزين ..؟\n",
      "\n",
      "الجائزة: ( جهاز iPhone XS 📱 )\n",
      "\n",
      "المسابقة بتكون بحساب الراعي\n",
      "نحن مجرد داعمين حفظكم الله\n",
      "السحب عندهم\n",
      "\n",
      "بتشارك ضرور… ylISBRDD1QjKOrQ\n",
      "RT @ALABDULLATIF: • أذكر في أي شهر نزل القرآن الكريم\n",
      "وادخل السحب على iPhone XS📱\n",
      "جوائزنا في رمضان (15) iPhoneXS\n",
      "\n",
      "الشروط :\n",
      "➊ متابعة حساباتنا… ateer7009\n",
      "RT @ABU_AKT: 🛑 مسابقة 🛑\n",
      "\n",
      "الجائزة : ( 3 جهاز iPhone XS 📱 )\n",
      "\n",
      "الشروط ضروري تعمل : 🛑\n",
      "\n",
      "1-رتويت\n",
      "\n",
      "2- تابع 👈🏻 @zd_8i\n",
      "\n",
      "3- أكتب تم\n",
      "\n",
      "#مفروشات_العبدالل… abode813\n",
      "RT @ALABDULLATIF: #مفروشات_العبداللطيف_15_ايفون \n",
      "من صاحب الـ iPhone XS الأول❓\n",
      "🔺 موعد السحب بعد 12 ساعة ⏳\n",
      "\n",
      "يرجى التأكد من تطبيق الشروط👇🏼\n",
      "htt… rm77ii\n",
      "RT @ALABDULLATIF: • أذكر في أي شهر نزل القرآن الكريم\n",
      "وادخل السحب على iPhone XS📱\n",
      "جوائزنا في رمضان (15) iPhoneXS\n",
      "\n",
      "الشروط :\n",
      "➊ متابعة حساباتنا… zainab56036313\n"
     ]
    }
   ],
   "source": [
    "# computationally intensive ... very slow if you have a lot of data\n",
    "for i in mention[:5]:\n",
    "    print(i[0], i[1])"
   ]
  },
  {
   "cell_type": "code",
   "execution_count": 266,
   "metadata": {},
   "outputs": [
    {
     "name": "stdout",
     "output_type": "stream",
     "text": [
      "ylISBRDD1QjKOrQ ['News_Ejazah']\n",
      "ateer7009 ['ALABDULLATIF']\n",
      "abode813 ['ABU_AKT', 'zd_8i']\n",
      "rm77ii ['ALABDULLATIF']\n",
      "zainab56036313 ['ALABDULLATIF']\n"
     ]
    }
   ],
   "source": [
    "for tweet in mention[:5]:\n",
    "    print(tweet[1], re.findall(r\"(?<=@)\\w+\", tweet[0]))"
   ]
  },
  {
   "cell_type": "code",
   "execution_count": 267,
   "metadata": {},
   "outputs": [
    {
     "name": "stdout",
     "output_type": "stream",
     "text": [
      "ylISBRDD1QjKOrQ News_Ejazah\n",
      "ateer7009 ALABDULLATIF\n",
      "abode813 ABU_AKT\n",
      "abode813 zd_8i\n",
      "rm77ii ALABDULLATIF\n",
      "zainab56036313 ALABDULLATIF\n"
     ]
    }
   ],
   "source": [
    "for tweet in mention[:5]:\n",
    "    a = re.findall(r\"(?<=@)\\w+\", tweet[0])\n",
    "    for i in a:\n",
    "        print(tweet[1], i)"
   ]
  },
  {
   "cell_type": "code",
   "execution_count": 268,
   "metadata": {},
   "outputs": [],
   "source": [
    "#putting everything together\n",
    "\n",
    "import csv\n",
    "    \n",
    "openfile = open(\"data/FinalIphoneNWA.csv\", \"w\", newline='')\n",
    "w = csv.writer(openfile)\n",
    "\n",
    "for tweet in mention:\n",
    "    a = re.findall(r\"(?<=@)\\w+\", tweet[0])\n",
    "    for i in a:\n",
    "        w.writerow([tweet[1], i])\n",
    "        \n",
    "openfile.close()"
   ]
  },
  {
   "cell_type": "markdown",
   "metadata": {},
   "source": [
    "#### Gephi Visual for Iphone"
   ]
  },
  {
   "cell_type": "markdown",
   "metadata": {},
   "source": [
    "<img src= \"GEPHI Visual Iphone.png\">"
   ]
  },
  {
   "cell_type": "markdown",
   "metadata": {},
   "source": [
    "#### Gephi Table for Iphone"
   ]
  },
  {
   "cell_type": "markdown",
   "metadata": {},
   "source": [
    "<img src= \"GEPHI Table Iphone.png\">"
   ]
  },
  {
   "cell_type": "markdown",
   "metadata": {},
   "source": [
    "### Hashtag Network for Iphone"
   ]
  },
  {
   "cell_type": "code",
   "execution_count": 269,
   "metadata": {},
   "outputs": [
    {
     "name": "stdout",
     "output_type": "stream",
     "text": [
      "RT @News_Ejazah: جاهزين ..؟\n",
      "\n",
      "الجائزة: ( جهاز iPhone XS 📱 )\n",
      "\n",
      "المسابقة بتكون بحساب الراعي\n",
      "نحن مجرد داعمين حفظكم الله\n",
      "السحب عندهم\n",
      "\n",
      "بتشارك ضرور…\n",
      "RT @ALABDULLATIF: • أذكر في أي شهر نزل القرآن الكريم\n",
      "وادخل السحب على iPhone XS📱\n",
      "جوائزنا في رمضان (15) iPhoneXS\n",
      "\n",
      "الشروط :\n",
      "➊ متابعة حساباتنا…\n",
      "RT @ABU_AKT: 🛑 مسابقة 🛑\n",
      "\n",
      "الجائزة : ( 3 جهاز iPhone XS 📱 )\n",
      "\n",
      "الشروط ضروري تعمل : 🛑\n",
      "\n",
      "1-رتويت\n",
      "\n",
      "2- تابع 👈🏻 @zd_8i\n",
      "\n",
      "3- أكتب تم\n",
      "\n",
      "#مفروشات_العبدالل…\n",
      "RT @ALABDULLATIF: #مفروشات_العبداللطيف_15_ايفون \n",
      "من صاحب الـ iPhone XS الأول❓\n",
      "🔺 موعد السحب بعد 12 ساعة ⏳\n",
      "\n",
      "يرجى التأكد من تطبيق الشروط👇🏼\n",
      "htt…\n",
      "RT @ALABDULLATIF: • أذكر في أي شهر نزل القرآن الكريم\n",
      "وادخل السحب على iPhone XS📱\n",
      "جوائزنا في رمضان (15) iPhoneXS\n",
      "\n",
      "الشروط :\n",
      "➊ متابعة حساباتنا…\n"
     ]
    }
   ],
   "source": [
    "for tweet in tweets[:5]:\n",
    "    print(tweet[0])"
   ]
  },
  {
   "cell_type": "code",
   "execution_count": 276,
   "metadata": {},
   "outputs": [
    {
     "name": "stdout",
     "output_type": "stream",
     "text": [
      "[]\n",
      "[]\n",
      "[]\n",
      "[]\n",
      "[]\n"
     ]
    }
   ],
   "source": [
    "for tweet in tweets[:5]:\n",
    "    data = re.sub(\"[^a-zA-Z0-9#]+\", \" \", tweet[0])\n",
    "    hashtag = re.findall(r\"(?<=#)\\w+\", str(data).lower())\n",
    "    print(hashtag)"
   ]
  },
  {
   "cell_type": "code",
   "execution_count": 271,
   "metadata": {},
   "outputs": [],
   "source": [
    "hashtag_network = []\n",
    "for tweet in tweets:\n",
    "    data = re.sub(\"[^a-zA-Z0-9#]+\", \" \", tweet[0])\n",
    "    hashtag = re.findall(r\"(?<=#)\\w+\", str(data).lower())\n",
    "    hashtag_network.append(hashtag)"
   ]
  },
  {
   "cell_type": "code",
   "execution_count": 272,
   "metadata": {},
   "outputs": [
    {
     "data": {
      "text/plain": [
       "[[],\n",
       " [],\n",
       " [],\n",
       " [],\n",
       " [],\n",
       " [],\n",
       " [],\n",
       " [],\n",
       " [],\n",
       " [],\n",
       " [],\n",
       " [],\n",
       " [],\n",
       " ['rakutenichiba'],\n",
       " [],\n",
       " [],\n",
       " [],\n",
       " [],\n",
       " [],\n",
       " []]"
      ]
     },
     "execution_count": 272,
     "metadata": {},
     "output_type": "execute_result"
    }
   ],
   "source": [
    "hashtag_network[:20]"
   ]
  },
  {
   "cell_type": "code",
   "execution_count": 273,
   "metadata": {},
   "outputs": [
    {
     "data": {
      "text/plain": [
       "[('huawei', 'nova3')]"
      ]
     },
     "execution_count": 273,
     "metadata": {},
     "output_type": "execute_result"
    }
   ],
   "source": [
    "from itertools import combinations\n",
    "cohashtags = [x for d in hashtag_network for x in combinations(d, 2)]\n",
    "cohashtags[:10]"
   ]
  },
  {
   "cell_type": "code",
   "execution_count": 274,
   "metadata": {},
   "outputs": [],
   "source": [
    "#for cohashtag analysis\n",
    "outfile = open(\"data/FinalIphonecohashtag_network.csv\", \"w\", newline='')\n",
    "w = csv.writer(outfile)\n",
    "for i in cohashtags:\n",
    "    w.writerow(i)    \n",
    "outfile.close()"
   ]
  },
  {
   "cell_type": "markdown",
   "metadata": {},
   "source": [
    "**Very few hashtags used in Iphone tweets. So nothing to visualize in Gephi**"
   ]
  },
  {
   "cell_type": "markdown",
   "metadata": {},
   "source": [
    "## 7. Findings"
   ]
  },
  {
   "cell_type": "markdown",
   "metadata": {},
   "source": [
    "**Data Identification and Collection**\n",
    "\n",
    "We collected 594 tweets containing the word 'Samsung 10' and 612 tweets containing 'Iphone Xs'. Our goal is to use these tweets to gain an understanding on what consumers value in a phone, and what strengths Samsung and Apple has for their product."
   ]
  },
  {
   "cell_type": "markdown",
   "metadata": {},
   "source": [
    "**Business and Data Understanding**\n",
    "\n",
    "The battle of the phones has been a long running rivalry since the boom of smartphones. There are tons of players in the market right now, but overwhelming Apple, and Samsung are dominate in the market. The question is why? What attributes are valued with these phones? What makes them 'good' phones? Why are these two companies destroying the other competitors? These are all questions we hope to shed light on with our feedback from tweets regarding samsung and iphone."
   ]
  },
  {
   "cell_type": "markdown",
   "metadata": {},
   "source": [
    "**Data Cleaning & Text Preprocessing Processing**\n",
    "\n",
    "In order to run our analysis we had to eliminate a lot of irrelevant words. Unfortunately, by using twitter data, there are a ton of useless tweets which can taint our information. Because of this, we chose to eliminate all the following stop words:\n",
    "\n",
    "'profile', 'none', 'url','http','film','count','image','com','false','status','twimg','reply','str','name' ,'user','twitter','text','jpg','index','true','resize','geo','created','enabled','default','type'                   ,'medium','alabdullatif','iphone','translator','lang','fit','href','contributor','sidebar','normal','quote','hashtags', 'mention','png','retweeted','entity','symbol','theme','pic','thumb','crop','retweet','size','may','large','iphonexs', 'mon','link','follower','following','follow','source','time'\n",
    "\n",
    "We found these words to not be useful for our analysis'. We also found a lot of the Iphone tweets to be arabic, so we removed all non english characters from our analysis' as well."
   ]
  },
  {
   "cell_type": "markdown",
   "metadata": {},
   "source": [
    "**Descriptive Analytics**\n",
    "\n",
    "For descriptive analytics, we did word frequency, plotted word frequency, bi-grams, and word clouds for each dataset. We found that the 15 most common words for Samsung were:\n",
    "\n",
    "Background - 5405\n",
    "color - 5400\n",
    "screen -3982\n",
    "display - 3808\n",
    "photo - 2994\n",
    "expanded - 2643\n",
    "banner - 1740\n",
    "small - 1587\n",
    "friend - 1190\n",
    "description - 1168\n",
    "notification - 1146\n",
    "video - 1144\n",
    "use - 1101\n",
    "coordinate - 1098\n",
    "place - 1095\n",
    "\n",
    "and the 15 most common words for Iphone were:\n",
    "\n",
    "background - 6925\n",
    "color - 6925\n",
    "screen - 4537\n",
    "display - 3790\n",
    "photo - 2993\n",
    "expanded - 2458\n",
    "banner - 2306\n",
    "small - 1473\n",
    "notification - 1429\n",
    "friend - 1387\n",
    "rel - 1385\n",
    "nofollow - 1385\n",
    "truncated - 1385\n",
    "location - 1385\n",
    "description - 1385\n",
    "\n",
    "As you can see, the words are extremely similar between the two phones. There seems to be a lot of focus around the screen and camera aspect of the phone. There are some other guesses as two why these words are significant, but I think it is safe to say people are talking a lot about the screen and camera features of both the iphone and samsung.\n",
    "\n",
    "I found it interesting that both phones had very similar words in their word frequency. This could go to show why these two phones are dominating the market. Because, in reality, they are very similar, and I imagine if we added a third phone into the mix, we would get different results for that phone."
   ]
  },
  {
   "cell_type": "markdown",
   "metadata": {},
   "source": [
    "**Content Analytics**\n",
    "\n",
    "For content analytics, we focused mainly on sentiment analysis for the tweets in our dataset. We thought it played a large role in our research, because if the reviews were negative, that would suggest that the most frequent words are negative attributes, and if they are positive, vice versa. You can find our results for samsung below:\n",
    "\n",
    "Textblob \n",
    "\n",
    "    Pos =153\n",
    "    \n",
    "    Neg = 40\n",
    "    \n",
    "    Neu = 401\n",
    "\n",
    "Bing Liu \n",
    "    \n",
    "    Pos = 195\n",
    "    \n",
    "    Neg = 58\n",
    "    \n",
    "    Neu = 341\n",
    "\n",
    "Vader Sentiment\n",
    "    \n",
    "    Pos = 219\n",
    "    \n",
    "    Neg = 31\n",
    "    \n",
    "    Neu = 344\n",
    "\n",
    "\n",
    "And Iphone Below:\n",
    "\n",
    "\n",
    "Textblob \n",
    "    \n",
    "    Pos = 14\n",
    "    \n",
    "    Neg = 9\n",
    "    \n",
    "    Neu = 589\n",
    "\n",
    "Bing Liu \n",
    "    \n",
    "    Pos = 26\n",
    "    \n",
    "    Neg = 2\n",
    "    \n",
    "    Neu = 584\n",
    "\n",
    "Vader Sentiment\n",
    "    \n",
    "    Pos = 28\n",
    "    \n",
    "    Neg = 2\n",
    "    \n",
    "    Neu = 582\n",
    "    \n",
    "    \n",
    "As you can see, the samsung data is overwhelmingly positive and neutral, and very few reviews are negative. We expected this. However, I question the analysis done on Iphone because of the amount of neutral tweets on all our sentiment analysis'. This gives credibility that the words most frequently used are positive attributes that consumers look for in a phone. The Iphone analysis' are still more positive than negative, so you can argue the same thing for the Iphone tweets. The argument just isn't as strong as it is for Samsung."
   ]
  },
  {
   "cell_type": "markdown",
   "metadata": {},
   "source": [
    "**Network Analytics**\n",
    "\n",
    "Samsung: We wanted to visualize our network to see what groups and who was influental in both of our networks. We saw that samsung moblie held the hightest eigenvector score with a 1.0 followed by gezindaba who has a follower base of 40 thousand. We also saw that youtube was the fifth rated eginvector score and we could attribute that people reviewing the s10 on that website. We can clude that these people do have a large following on twitter and interactions by the compnay twitter page does play and important role. For Hastags we see a popular trend for screens and screen protectors with cracked. Could see a potienal opening for customers protecting thier phone.\n",
    "\n",
    "\n",
    "iPhone: This data is interesting because we did some research on the top user name because this did not stick out to us at first glance and it did not pull the same company twitter account as we saw with samsung. What we have at the top of the eginvecotr is a popular twitter account (500k followers) giving away and iphone and people retweeting this to enter in this giveaway for the new iphone. This explians why are data might be skewed and not represent the best of the review but it does tell us that twitter is a great place for a giveaway and allows for massive expsure in a quick amount of time such as our data collection in this case."
   ]
  },
  {
   "cell_type": "markdown",
   "metadata": {},
   "source": [
    "**Conclusion**\n",
    "\n",
    "We have found in our dataset is that consumers value what the screen,display and camera attributes are like significantly more than any other piece of the phone. This speaks into why these phones are considered the top of the industry and hold such a high market percentage. We could make the case for consumers caring about how easy it is for someone to crack a screen on one of these phones. We see from our samsung data that a company having a twitter page is effective in communicating the product and being the center of the network. We also see that consumers could care about youtube videos to go see information about each of these products with youtube being the fifth highest in the eigennvector score. As far a iphone data we were less statisfied with our results, we still got some useful information such as screen ans display but our mentions network and potienally the rest of our data was skewed because of the giveaway that was going on. What this iphone data does tell us is that giveaways on twitter are extremely valueable if you have a large following base. Overall, we did find insight on why consumers are purchasing these two products and what other companies should be striving for to overtake them."
   ]
  }
 ],
 "metadata": {
  "kernelspec": {
   "display_name": "Python 3",
   "language": "python",
   "name": "python3"
  },
  "language_info": {
   "codemirror_mode": {
    "name": "ipython",
    "version": 3
   },
   "file_extension": ".py",
   "mimetype": "text/x-python",
   "name": "python",
   "nbconvert_exporter": "python",
   "pygments_lexer": "ipython3",
   "version": "3.7.1"
  }
 },
 "nbformat": 4,
 "nbformat_minor": 2
}
